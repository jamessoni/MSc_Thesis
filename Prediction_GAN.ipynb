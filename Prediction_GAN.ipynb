{
  "nbformat": 4,
  "nbformat_minor": 0,
  "metadata": {
    "colab": {
      "name": "Prediction_GAN.ipynb",
      "provenance": [],
      "collapsed_sections": []
    },
    "kernelspec": {
      "name": "python3",
      "display_name": "Python 3"
    },
    "language_info": {
      "name": "python"
    }
  },
  "cells": [
    {
      "cell_type": "code",
      "metadata": {
        "colab": {
          "base_uri": "https://localhost:8080/"
        },
        "id": "XFuvsA-iI0Ob",
        "outputId": "27d5a6b4-500d-4134-caed-d37d690c5023"
      },
      "source": [
        "from google.colab import drive\n",
        "drive.mount('/content/gdrive/')"
      ],
      "execution_count": 43,
      "outputs": [
        {
          "output_type": "stream",
          "text": [
            "Drive already mounted at /content/gdrive/; to attempt to forcibly remount, call drive.mount(\"/content/gdrive/\", force_remount=True).\n"
          ],
          "name": "stdout"
        }
      ]
    },
    {
      "cell_type": "code",
      "metadata": {
        "id": "LakRRdQJI3UG"
      },
      "source": [
        "import sys\n",
        "sys.path.append('/content/gdrive/MyDrive/ACSE-9')"
      ],
      "execution_count": 44,
      "outputs": []
    },
    {
      "cell_type": "code",
      "metadata": {
        "id": "H2WJN57yI9tD"
      },
      "source": [
        "# Python ≥3.5 is required\n",
        "import sys\n",
        "assert sys.version_info >= (3, 5)\n",
        "\n",
        "# Scikit-Learn ≥0.20 is required\n",
        "import sklearn\n",
        "assert sklearn.__version__ >= \"0.20\"\n",
        "\n",
        "# TensorFlow ≥2.0 is required\n",
        "import tensorflow as tf\n",
        "from tensorflow import keras\n",
        "assert tf.__version__ >= \"2.0\"\n",
        "\n",
        "# Common imports\n",
        "import numpy as np\n",
        "import os\n",
        "\n",
        "# To plot pretty figures\n",
        "%matplotlib inline\n",
        "import matplotlib as mpl\n",
        "import matplotlib.pyplot as plt\n",
        "mpl.rc('axes', labelsize=14)\n",
        "mpl.rc('xtick', labelsize=12)\n",
        "mpl.rc('ytick', labelsize=12)\n",
        "\n",
        "import pandas as pd\n",
        "import time"
      ],
      "execution_count": 45,
      "outputs": []
    },
    {
      "cell_type": "markdown",
      "metadata": {
        "id": "QhxPfckmQsLW"
      },
      "source": [
        "Data from compression using PCA (243 pod coefficients)"
      ]
    },
    {
      "cell_type": "code",
      "metadata": {
        "id": "5tMT0YVPQruk"
      },
      "source": [
        "import joblib\n",
        "\n",
        "pca_compress = joblib.load('/content/gdrive/MyDrive/ACSE-9/pod_coefficients_300.pkl')\n",
        "#trial\n",
        "pca = joblib.load('/content/gdrive/MyDrive/ACSE-9/pca_compress_300.pkl')"
      ],
      "execution_count": 99,
      "outputs": []
    },
    {
      "cell_type": "markdown",
      "metadata": {
        "id": "8uiUvYD9QhrZ"
      },
      "source": [
        "### Prepare data for the GAN"
      ]
    },
    {
      "cell_type": "code",
      "metadata": {
        "colab": {
          "base_uri": "https://localhost:8080/"
        },
        "id": "m2YkMWTpQkYQ",
        "outputId": "1d15598e-55d0-438c-8164-30171a00a8f9"
      },
      "source": [
        "X_train_pca = pca_compress.T\n",
        "print(X_train_pca.shape)\n",
        "codings_size = X_train_pca.shape[1]"
      ],
      "execution_count": 100,
      "outputs": [
        {
          "output_type": "stream",
          "text": [
            "(300, 243)\n"
          ],
          "name": "stdout"
        }
      ]
    },
    {
      "cell_type": "code",
      "metadata": {
        "colab": {
          "base_uri": "https://localhost:8080/"
        },
        "id": "nAVcPuP5RMDm",
        "outputId": "215445e1-0318-47a4-b0cc-4402c1611da5"
      },
      "source": [
        "from sklearn.preprocessing import MinMaxScaler\n",
        "scaler = MinMaxScaler() #\n",
        "X_train_scaled = scaler.fit_transform(X_train_pca)*2 -1\n",
        "np.allclose(X_train_pca, scaler.inverse_transform((X_train_scaled+1)/2))"
      ],
      "execution_count": 101,
      "outputs": [
        {
          "output_type": "execute_result",
          "data": {
            "text/plain": [
              "True"
            ]
          },
          "metadata": {
            "tags": []
          },
          "execution_count": 101
        }
      ]
    },
    {
      "cell_type": "code",
      "metadata": {
        "id": "U9Y6CCBgRPr1"
      },
      "source": [
        "def concat_timesteps(X_train, ntimes, step):\n",
        "    X_train_concat = []\n",
        "    for i in range(len(X_train) - ntimes*step):\n",
        "        X_train_concat.append(X_train[i:i+ntimes*step:step])\n",
        "    return np.array(X_train_concat) "
      ],
      "execution_count": 102,
      "outputs": []
    },
    {
      "cell_type": "code",
      "metadata": {
        "colab": {
          "base_uri": "https://localhost:8080/"
        },
        "id": "eSlIeDvIRRkQ",
        "outputId": "681ecb16-56e1-4d91-e3e4-5766071b1f01"
      },
      "source": [
        "ntimes = 9  # consecutive times for the GAN\n",
        "step = 1 # step between times\n",
        "\n",
        "#X_train_concat = concat_timesteps(X_train_pca, ntimes, step)\n",
        "X_train_concat = concat_timesteps(X_train_scaled, ntimes, step)\n",
        "print(\"X_train_concat: \", np.shape(X_train_concat))\n",
        "X_train_concat_flatten = X_train_concat.reshape(X_train_concat.shape[0], codings_size*ntimes )\n",
        "\n",
        "\n",
        "X_train_4d = X_train_concat.reshape((X_train_concat.shape[0], ntimes, X_train_concat.shape[2], 1))  #(148706, 100, 81, 1)\n",
        "print(\"X_train_4d: \", X_train_4d.shape)"
      ],
      "execution_count": 103,
      "outputs": [
        {
          "output_type": "stream",
          "text": [
            "X_train_concat:  (291, 9, 243)\n",
            "X_train_4d:  (291, 9, 243, 1)\n"
          ],
          "name": "stdout"
        }
      ]
    },
    {
      "cell_type": "markdown",
      "metadata": {
        "id": "j1f1QnkLRmHn"
      },
      "source": [
        "### Load the GAN"
      ]
    },
    {
      "cell_type": "markdown",
      "metadata": {
        "id": "m7II_rRyRpH2"
      },
      "source": [
        "Data from compression using PCA (243 pod coefficients)"
      ]
    },
    {
      "cell_type": "code",
      "metadata": {
        "id": "ur_ftj3TRpH2"
      },
      "source": [
        "# loading saved model\n",
        "from tensorflow.keras.models import load_model\n",
        "generator, discriminator = load_model('/content/gdrive/MyDrive/ACSE-9/models/GAN_model1.h5', compile=False).layers\n",
        "scaler = joblib.load('/content/gdrive/MyDrive/ACSE-9/models/scaler-gan_model1.pkl')\n",
        "\n",
        "# generator, discriminator = load_model('/content/gdrive/MyDrive/ACSE-9/models/GAN_model2.h5', compile=False).layers\n",
        "# scaler = joblib.load('/content/gdrive/MyDrive/ACSE-9/models/scaler-gan_model2.pkl')\n"
      ],
      "execution_count": 104,
      "outputs": []
    },
    {
      "cell_type": "code",
      "metadata": {
        "id": "XRWzbe6BRpH3"
      },
      "source": [
        "#print(generator.weights)"
      ],
      "execution_count": 105,
      "outputs": []
    },
    {
      "cell_type": "code",
      "metadata": {
        "id": "vDCJz7sFRwH-"
      },
      "source": [
        "np.random.seed(0)\n",
        "tf.random.set_seed(0)\n",
        "#npredict = 5\n",
        "#latent_space = 150\n",
        "latent_space = 243"
      ],
      "execution_count": 107,
      "outputs": []
    },
    {
      "cell_type": "markdown",
      "metadata": {
        "id": "bq3O8oe8QBSl"
      },
      "source": [
        "#### Predict one point\n",
        "</br>using pca as weights for optimisation"
      ]
    },
    {
      "cell_type": "code",
      "metadata": {
        "id": "rEcvCv6gT-1U"
      },
      "source": [
        "#X_train_scaled[1].min()"
      ],
      "execution_count": 108,
      "outputs": []
    },
    {
      "cell_type": "code",
      "metadata": {
        "id": "lg1Xm93NJSGG"
      },
      "source": [
        "# pca_compress.singular_values_\n",
        "# weight = tf.constant(pca_compress.T[0:8,:], dtype=tf.float32) #FUNNY"
      ],
      "execution_count": 109,
      "outputs": []
    },
    {
      "cell_type": "code",
      "metadata": {
        "colab": {
          "base_uri": "https://localhost:8080/"
        },
        "id": "7uaDpx8kWGYP",
        "outputId": "cd8a265e-8877-4270-bc8b-72d1151e43ea"
      },
      "source": [
        "#trial\n",
        "weight_pca = tf.constant(pca.singular_values_, dtype=tf.float32)\n",
        "weight_pca"
      ],
      "execution_count": 110,
      "outputs": [
        {
          "output_type": "execute_result",
          "data": {
            "text/plain": [
              "<tf.Tensor: shape=(243,), dtype=float32, numpy=\n",
              "array([3875.2954 ,  729.92194,  566.40656,  530.836  ,  521.36945,\n",
              "        514.46155,  507.43362,  504.64496,  503.82913,  497.43753,\n",
              "        497.11954,  494.4548 ,  493.81628,  489.28064,  488.8185 ,\n",
              "        488.00882,  487.8967 ,  487.7491 ,  487.4611 ,  486.69138,\n",
              "        484.94537,  483.1895 ,  482.53406,  482.33884,  480.42053,\n",
              "        480.10513,  478.7203 ,  476.9399 ,  475.491  ,  474.87354,\n",
              "        473.28455,  469.2823 ,  466.7281 ,  465.44952,  464.2496 ,\n",
              "        463.92465,  462.7427 ,  461.54092,  461.2625 ,  457.46576,\n",
              "        457.32947,  457.24222,  455.22446,  452.07   ,  451.30005,\n",
              "        449.3987 ,  448.88486,  447.23386,  444.4079 ,  443.59186,\n",
              "        443.28735,  442.9274 ,  441.85416,  441.16266,  439.78888,\n",
              "        438.50302,  435.36203,  435.1024 ,  428.9661 ,  423.6723 ,\n",
              "        422.88644,  420.89035,  418.76587,  416.45782,  411.58347,\n",
              "        411.3735 ,  409.38586,  403.19733,  402.12997,  399.76874,\n",
              "        399.54803,  399.03925,  398.33374,  396.95923,  395.2373 ,\n",
              "        393.8136 ,  387.44232,  385.15207,  380.80347,  379.11203,\n",
              "        376.91217,  367.34998,  366.7703 ,  366.11914,  364.9306 ,\n",
              "        363.7047 ,  361.62848,  357.4671 ,  355.57275,  354.62015,\n",
              "        353.98965,  353.44934,  351.32785,  351.10574,  346.44336,\n",
              "        341.19684,  336.41776,  334.455  ,  332.28366,  331.0109 ,\n",
              "        326.23724,  321.99414,  320.50525,  318.57108,  315.85205,\n",
              "        314.72424,  313.5989 ,  311.67548,  311.24612,  310.407  ,\n",
              "        304.52216,  303.50912,  302.66   ,  297.84286,  297.2521 ,\n",
              "        294.14322,  292.58337,  292.01523,  288.42355,  288.1489 ,\n",
              "        285.75043,  285.121  ,  283.8764 ,  282.84546,  282.37064,\n",
              "        280.88718,  276.97354,  271.69778,  268.89914,  264.96518,\n",
              "        264.42902,  263.25815,  263.04816,  262.50476,  261.7981 ,\n",
              "        257.1256 ,  253.43962,  253.25073,  252.79128,  252.24321,\n",
              "        250.48279,  249.98454,  248.49664,  248.32054,  245.97758,\n",
              "        245.3359 ,  244.8354 ,  244.36331,  241.92749,  240.91844,\n",
              "        238.63353,  236.7479 ,  233.92358,  232.9782 ,  232.81017,\n",
              "        232.68604,  231.0088 ,  230.77765,  228.9237 ,  228.49901,\n",
              "        227.58783,  227.15814,  226.89731,  226.62155,  225.94856,\n",
              "        224.57375,  223.40804,  223.24332,  222.88295,  221.88197,\n",
              "        221.24144,  220.91682,  220.38258,  219.81215,  219.31259,\n",
              "        219.24591,  219.10486,  218.83296,  218.12344,  218.05174,\n",
              "        217.4881 ,  217.32536,  217.02165,  216.25209,  216.11758,\n",
              "        216.08032,  215.92307,  215.36537,  215.07597,  214.71121,\n",
              "        214.64458,  213.92816,  213.80803,  213.60898,  213.49326,\n",
              "        213.20242,  213.08221,  212.85915,  212.51408,  212.35838,\n",
              "        211.97583,  211.89783,  211.80974,  211.23174,  210.61372,\n",
              "        210.32056,  210.07849,  209.91603,  209.79488,  209.71907,\n",
              "        209.47481,  209.37033,  209.26982,  209.23172,  208.98076,\n",
              "        208.70923,  208.57707,  208.41301,  208.34073,  208.2339 ,\n",
              "        208.0351 ,  207.89874,  207.4665 ,  207.34677,  207.2764 ,\n",
              "        207.15866,  207.0139 ,  206.76187,  206.62064,  206.43329,\n",
              "        206.37035,  206.00856,  205.98723,  205.6625 ,  205.33388,\n",
              "        205.21545,  205.19846,  204.76929,  203.93071,  203.82625,\n",
              "        203.52756,  203.26547,  203.18222], dtype=float32)>"
            ]
          },
          "metadata": {
            "tags": []
          },
          "execution_count": 110
        }
      ]
    },
    {
      "cell_type": "code",
      "metadata": {
        "id": "Wm3VBSWeSZA4"
      },
      "source": [
        "mse = tf.keras.losses.MeanSquaredError()\n",
        "optimizer = tf.keras.optimizers.Adam(2e-2, 0.5)\n",
        "#optimizer = tf.keras.optimizers.Adam(1e-2)\n",
        "epochs = 1000\n",
        "\n",
        "def mse_loss(inp, outp, loss_weight):\n",
        "    inp = tf.reshape(inp, [-1, codings_size])*tf.math.sqrt(loss_weight)\n",
        "    print(\"inp: \", inp)\n",
        "    outp = tf.reshape(outp, [-1, codings_size])*tf.math.sqrt(loss_weight)\n",
        "    print(\"outp:\", outp)\n",
        "    return mse(inp, outp)"
      ],
      "execution_count": 111,
      "outputs": []
    },
    {
      "cell_type": "code",
      "metadata": {
        "id": "PMWRx0SEUi6G"
      },
      "source": [
        "@tf.function\n",
        "def opt_step(latent_values, real_coding, loss_weight):\n",
        "    with tf.GradientTape() as tape:\n",
        "        tape.watch(latent_values)\n",
        "        gen_output = generator(latent_values, training=False)  #results from generator\n",
        "        loss = mse_loss(real_coding, gen_output[:,:(ntimes - 1),:,:], loss_weight)   #codings_size is size of each output, ntimes is number of time levels. \n",
        "        #If training for 9 time levels, it finds the loss between the first 8 outputs from the generator and 8 real outputs\n",
        "\n",
        "    gradient = tape.gradient(loss, latent_values)   #gradient of the loss ws to the input\n",
        "    optimizer.apply_gradients(zip([gradient], [latent_values]))   #applies gradients to the input\n",
        "    \n",
        "    return loss"
      ],
      "execution_count": 112,
      "outputs": []
    },
    {
      "cell_type": "code",
      "metadata": {
        "id": "_DbsGx4NUw7M"
      },
      "source": [
        "def optimize_coding(real_coding, loss_weight):\n",
        "    latent_values = tf.random.normal([len(real_coding), latent_space])  \n",
        "    latent_values = tf.Variable(latent_values)     #make input a tensorflow variable so it can be trained\n",
        "    \n",
        "    loss = []\n",
        "    for epoch in range(epochs):\n",
        "        loss.append(opt_step(latent_values, real_coding, loss_weight).numpy())\n",
        "        \n",
        "    plt.plot(loss)\n",
        "    plt.grid()\n",
        "    plt.show\n",
        "        \n",
        "    return latent_values  #returns the optimized input that generates the desired output"
      ],
      "execution_count": 113,
      "outputs": []
    },
    {
      "cell_type": "code",
      "metadata": {
        "id": "j3LpJuk6UyRG",
        "colab": {
          "base_uri": "https://localhost:8080/"
        },
        "outputId": "e8747829-f4f1-4cb7-bd20-2ba72534f3a1"
      },
      "source": [
        "n = 10 # start time level\n",
        "print(X_train_concat.shape)\n",
        "real_coding = X_train_concat_flatten[n].reshape(1,-1)\n",
        "print(real_coding.shape)\n",
        "real_coding = real_coding[:,:codings_size*(ntimes - 1)]\n",
        "real_coding = tf.constant(real_coding)\n",
        "real_coding = tf.cast(real_coding, dtype=tf.float32)"
      ],
      "execution_count": 114,
      "outputs": [
        {
          "output_type": "stream",
          "text": [
            "(291, 9, 243)\n",
            "(1, 2187)\n"
          ],
          "name": "stdout"
        }
      ]
    },
    {
      "cell_type": "code",
      "metadata": {
        "colab": {
          "base_uri": "https://localhost:8080/"
        },
        "id": "pQD5FZiGDTox",
        "outputId": "09e3be1a-9cf0-464c-dba0-c87e70158e1f"
      },
      "source": [
        "#checks\n",
        "latent_values = tf.random.normal([len(real_coding), latent_space])\n",
        "print(latent_values.shape)\n",
        "gen_output = generator(latent_values, training=False)[:,:(ntimes - 1),:,:]  #results from generator\n",
        "print(gen_output.shape)\n",
        "print(real_coding.shape)\n",
        "print(weight_pca.shape)"
      ],
      "execution_count": 115,
      "outputs": [
        {
          "output_type": "stream",
          "text": [
            "(1, 243)\n",
            "(1, 8, 243, 1)\n",
            "(1, 1944)\n",
            "(243,)\n"
          ],
          "name": "stdout"
        }
      ]
    },
    {
      "cell_type": "code",
      "metadata": {
        "colab": {
          "base_uri": "https://localhost:8080/",
          "height": 1000
        },
        "id": "VkhLh60QUzxL",
        "outputId": "c8da9355-9270-4192-8707-39e3b85823af"
      },
      "source": [
        "latent_values = optimize_coding(real_coding, weight_pca)\n",
        "print('Loss: ', mse_loss(generator(latent_values)[:,:(ntimes - 1),:,:], real_coding, weight_pca).numpy())\n",
        "print(latent_values)"
      ],
      "execution_count": 116,
      "outputs": [
        {
          "output_type": "stream",
          "text": [
            "inp:  Tensor(\"mul:0\", shape=(8, 243), dtype=float32)\n",
            "outp: Tensor(\"mul_1:0\", shape=(8, 243), dtype=float32)\n",
            "inp:  Tensor(\"mul:0\", shape=(8, 243), dtype=float32)\n",
            "outp: Tensor(\"mul_1:0\", shape=(8, 243), dtype=float32)\n",
            "inp:  tf.Tensor(\n",
            "[[ 34.03044    -22.167439   -16.42938    ...  -8.208944    -5.516347\n",
            "   -2.2682004 ]\n",
            " [ 33.538258   -20.340874   -20.526016   ...  -5.738462    -5.349766\n",
            "   -3.287606  ]\n",
            " [ 32.082066   -21.825768   -20.862354   ...  -4.3990316   -6.343428\n",
            "   -0.109982  ]\n",
            " ...\n",
            " [ 29.450174   -20.623264   -21.508406   ...  -1.8428913    1.4404255\n",
            "    3.4364908 ]\n",
            " [ 26.614624   -22.123522   -22.607367   ...  -1.2316803    2.1747968\n",
            "    9.329321  ]\n",
            " [ 18.931086   -20.77149    -19.985136   ...   1.7687663    0.42660758\n",
            "    1.9775653 ]], shape=(8, 243), dtype=float32)\n",
            "outp: tf.Tensor(\n",
            "[[ 33.251087   -26.218615   -23.002653   ...  -4.493586    -2.7293124\n",
            "    1.851294  ]\n",
            " [ 35.722206   -26.238228   -23.181046   ...   0.0524337    1.496279\n",
            "    0.08790236]\n",
            " [ 43.40528    -26.250036   -22.902729   ...   3.855503    -2.9765341\n",
            "    1.2483325 ]\n",
            " ...\n",
            " [ 23.410381   -26.985868   -22.486504   ...  -7.895948    -2.9520898\n",
            "    7.7998834 ]\n",
            " [ 28.301975   -26.809706   -22.105583   ...  -1.2986294    0.7842621\n",
            "   -7.600154  ]\n",
            " [ 22.767355   -26.74872    -21.89792    ...   7.969442    -2.2281568\n",
            "    9.006499  ]], shape=(8, 243), dtype=float32)\n",
            "Loss:  45.42076\n",
            "<tf.Variable 'Variable:0' shape=(1, 243) dtype=float32, numpy=\n",
            "array([[ 5.30316830e-01, -8.39806736e-01,  5.53052902e-01,\n",
            "        -1.06569445e+00, -3.93479586e-01,  1.12392366e-01,\n",
            "        -1.83474749e-01,  1.00756474e-01,  4.01170909e-01,\n",
            "         2.49119234e+00,  5.93917906e-01, -1.79877087e-01,\n",
            "        -1.90221876e-01, -5.92008866e-02, -1.76987803e+00,\n",
            "        -4.53185499e-01, -9.26283777e-01,  6.78666174e-01,\n",
            "         2.07483962e-01,  4.98772264e-01,  1.93488136e-01,\n",
            "        -8.06783065e-02, -1.72481433e-01,  1.11955017e-01,\n",
            "         5.29767156e-01, -1.06788862e+00, -1.57834125e+00,\n",
            "        -1.39405298e+00,  1.50405979e+00, -7.50855565e-01,\n",
            "         3.41736197e-01, -6.35600507e-01, -1.77505225e-01,\n",
            "         6.61473155e-01,  1.06049967e+00, -3.42201918e-01,\n",
            "        -6.21689618e-01, -1.90558881e-01, -3.39169383e-01,\n",
            "         4.44890022e-01,  1.42536476e-01,  7.50302494e-01,\n",
            "        -2.54578769e-01, -7.35065639e-01,  5.99153519e-01,\n",
            "        -1.44605219e-01,  1.09991527e+00,  4.31855977e-01,\n",
            "        -3.63283873e-01,  3.31977218e-01,  6.23655677e-01,\n",
            "        -1.09222233e+00, -4.72868592e-01, -1.14827681e+00,\n",
            "        -1.20974028e+00, -9.37262595e-01, -2.94428971e-03,\n",
            "         1.28027380e+00, -7.96849430e-01,  4.33352679e-01,\n",
            "        -1.09838355e+00, -1.51436806e-01,  1.38167334e+00,\n",
            "         7.15258300e-01, -6.38088882e-02,  1.54612958e+00,\n",
            "         6.95514143e-01, -3.25444221e-01, -7.71753311e-01,\n",
            "        -7.37988234e-01,  1.43434393e+00, -2.08613563e+00,\n",
            "         5.02777696e-01,  5.55863261e-01, -5.71095169e-01,\n",
            "        -5.08902431e-01, -1.00118585e-01, -1.94768935e-01,\n",
            "         1.91003108e+00,  5.12899518e-01,  1.33558884e-01,\n",
            "         1.51872587e+00,  2.42105918e-03,  1.14592528e+00,\n",
            "        -9.01021063e-01,  1.61307782e-01,  3.46443683e-01,\n",
            "        -7.22581625e-01, -6.89165771e-01, -9.85330045e-02,\n",
            "        -1.37082517e-01,  1.02466762e+00,  3.17594230e-01,\n",
            "         4.86976326e-01, -7.05960751e-01, -7.98183799e-01,\n",
            "        -9.82891440e-01, -5.92278540e-01,  4.23856974e-01,\n",
            "         8.54256034e-01, -7.65755534e-01, -7.71137774e-01,\n",
            "        -5.62637627e-01,  2.34009296e-01,  1.27537394e+00,\n",
            "        -8.62989351e-02,  2.41332561e-01, -4.82022375e-01,\n",
            "         1.00853693e+00,  1.72499865e-01, -4.77742702e-01,\n",
            "        -7.39802718e-01,  3.30061130e-02, -6.31890118e-01,\n",
            "         1.45006880e-01, -8.15778017e-01, -8.66221666e-01,\n",
            "         1.41256064e-01, -3.14032733e-01, -3.93381149e-01,\n",
            "        -8.24837089e-01, -1.10736656e+00,  7.72465160e-03,\n",
            "        -1.14236534e+00, -4.81998548e-03, -2.55123645e-01,\n",
            "         2.15911913e+00, -2.51226187e-01,  8.53935182e-01,\n",
            "         9.58774924e-01, -2.37070665e-01,  7.00205922e-01,\n",
            "        -4.43703741e-01, -7.29826808e-01,  7.91626722e-02,\n",
            "        -7.79442132e-01,  1.28381538e+00,  1.04459417e+00,\n",
            "         2.78744012e-01,  1.16625346e-01,  1.48194492e+00,\n",
            "         3.57696787e-02,  1.43965647e-01,  5.27827561e-01,\n",
            "        -1.19599080e+00, -5.86474061e-01, -4.45043802e-01,\n",
            "         1.25477993e+00,  5.86113095e-01,  5.11048079e-01,\n",
            "         8.16047192e-01, -1.46236670e+00,  8.27509344e-01,\n",
            "        -5.75643420e-01,  5.53192675e-01,  4.77921337e-01,\n",
            "         4.47072595e-01,  1.31216717e+00,  7.59049177e-01,\n",
            "         7.97222674e-01, -1.32695460e+00,  6.64468527e-01,\n",
            "        -2.98960924e-01,  9.61085737e-01, -2.12263227e-01,\n",
            "        -2.67834336e-01, -3.62627238e-01,  1.48894927e-02,\n",
            "        -2.60867238e-01,  5.44574499e-01,  3.31532329e-01,\n",
            "         6.25408143e-02,  6.01673305e-01, -4.83485460e-01,\n",
            "         3.18944305e-01,  1.17715740e+00,  6.27210289e-02,\n",
            "         1.08019423e+00, -1.17223060e+00, -9.89772081e-01,\n",
            "        -8.56039703e-01,  8.78215805e-02, -9.38400686e-01,\n",
            "        -5.35604477e-01, -3.46700884e-02,  1.13342142e+00,\n",
            "         8.49575773e-02,  2.75235884e-02,  6.31876588e-01,\n",
            "         6.50585741e-02, -5.07585883e-01, -9.58123028e-01,\n",
            "         9.46802378e-01, -1.89839900e+00,  4.82619882e-01,\n",
            "        -2.99451828e-01, -3.59218985e-01,  1.12821436e+00,\n",
            "        -5.28893113e-01,  6.77918375e-01, -7.44386911e-01,\n",
            "        -1.05388641e+00, -5.21929383e-01, -3.96665126e-01,\n",
            "         3.66932273e-01, -5.24318397e-01,  4.14150685e-01,\n",
            "        -5.49083173e-01,  7.96149433e-01,  1.93320662e-01,\n",
            "        -5.36723971e-01, -1.11613464e+00,  1.08685660e+00,\n",
            "        -2.40931716e-02, -1.57233864e-01, -1.11714089e+00,\n",
            "        -7.11094260e-01, -4.54397917e-01, -7.66783476e-01,\n",
            "        -1.34386644e-01,  3.87655407e-01, -1.51274109e+00,\n",
            "        -7.73389041e-02, -6.52172565e-01, -1.06355309e-01,\n",
            "         5.67343652e-01,  4.52775478e-01,  1.19639754e-01,\n",
            "        -3.70434046e-01, -3.94569486e-01, -1.32639423e-01,\n",
            "        -7.13301659e-01, -2.65801477e+00, -6.93529785e-01,\n",
            "        -3.87609661e-01, -1.57013190e+00, -1.36811137e+00,\n",
            "         1.21299469e+00, -7.79080689e-01, -1.08703685e+00,\n",
            "        -7.62614369e-01, -1.18959248e+00, -1.49470675e+00]], dtype=float32)>\n"
          ],
          "name": "stdout"
        },
        {
          "output_type": "display_data",
          "data": {
            "image/png": "[encoded data removed]",
            "text/plain": [
              "<Figure size 432x288 with 1 Axes>"
            ]
          },
          "metadata": {
            "tags": [],
            "needs_background": "light"
          }
        }
      ]
    },
    {
      "cell_type": "code",
      "metadata": {
        "id": "Qn_GWGY2U5dx",
        "colab": {
          "base_uri": "https://localhost:8080/",
          "height": 195
        },
        "outputId": "e2f6b8ee-231b-423d-901f-758d3660ddc8"
      },
      "source": [
        "gen_output_1 = generator(latent_values, training=False)[:,:(ntimes - 1),:,:][0,:,:24,0]\n",
        "print(gen_output_1.shape)\n",
        "plt.imshow(gen_output_1)"
      ],
      "execution_count": 131,
      "outputs": [
        {
          "output_type": "stream",
          "text": [
            "(8, 24)\n"
          ],
          "name": "stdout"
        },
        {
          "output_type": "execute_result",
          "data": {
            "text/plain": [
              "<matplotlib.image.AxesImage at 0x7feca9e19c50>"
            ]
          },
          "metadata": {
            "tags": []
          },
          "execution_count": 131
        },
        {
          "output_type": "display_data",
          "data": {
            "image/png": "[encoded data removed]",
            "text/plain": [
              "<Figure size 432x288 with 1 Axes>"
            ]
          },
          "metadata": {
            "tags": [],
            "needs_background": "light"
          }
        }
      ]
    },
    {
      "cell_type": "code",
      "metadata": {
        "colab": {
          "base_uri": "https://localhost:8080/",
          "height": 179
        },
        "id": "fr8d9ozTj9OH",
        "outputId": "d90f4be3-fea5-4446-92d7-8e7bc2c9852b"
      },
      "source": [
        "#plt.imshow(real_coding.reshape((8,-1)))\n",
        "real_dat = np.reshape(real_coding, (8,243))\n",
        "real_dat = real1[:, :24]\n",
        "plt.imshow(real_dat)"
      ],
      "execution_count": 136,
      "outputs": [
        {
          "output_type": "execute_result",
          "data": {
            "text/plain": [
              "<matplotlib.image.AxesImage at 0x7feca9bedfd0>"
            ]
          },
          "metadata": {
            "tags": []
          },
          "execution_count": 136
        },
        {
          "output_type": "display_data",
          "data": {
            "image/png": "[encoded data removed]",
            "text/plain": [
              "<Figure size 432x288 with 1 Axes>"
            ]
          },
          "metadata": {
            "tags": [],
            "needs_background": "light"
          }
        }
      ]
    },
    {
      "cell_type": "code",
      "metadata": {
        "colab": {
          "base_uri": "https://localhost:8080/",
          "height": 179
        },
        "id": "cIbDR97gksTz",
        "outputId": "44645be3-23f8-45d3-decb-793352597852"
      },
      "source": [
        "diff = real_dat - gen_output_1\n",
        "plt.imshow(diff)\n",
        "#print(diff)"
      ],
      "execution_count": 139,
      "outputs": [
        {
          "output_type": "execute_result",
          "data": {
            "text/plain": [
              "<matplotlib.image.AxesImage at 0x7feca9b142d0>"
            ]
          },
          "metadata": {
            "tags": []
          },
          "execution_count": 139
        },
        {
          "output_type": "display_data",
          "data": {
            "image/png": "[encoded data removed]",
            "text/plain": [
              "<Figure size 432x288 with 1 Axes>"
            ]
          },
          "metadata": {
            "tags": [],
            "needs_background": "light"
          }
        }
      ]
    },
    {
      "cell_type": "code",
      "metadata": {
        "id": "Cnv4TG8blamn"
      },
      "source": [
        ""
      ],
      "execution_count": null,
      "outputs": []
    }
  ]
}