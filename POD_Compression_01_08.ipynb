{
  "nbformat": 4,
  "nbformat_minor": 0,
  "metadata": {
    "colab": {
      "name": "POD_Compression_01-08.ipynb",
      "provenance": [],
      "collapsed_sections": []
    },
    "kernelspec": {
      "name": "python3",
      "display_name": "Python 3"
    },
    "language_info": {
      "name": "python"
    }
  },
  "cells": [
    {
      "cell_type": "markdown",
      "metadata": {
        "id": "YZz-UxPKmBmc"
      },
      "source": [
        "## POD/PCA dimensionality reduction"
      ]
    },
    {
      "cell_type": "code",
      "metadata": {
        "colab": {
          "base_uri": "https://localhost:8080/"
        },
        "id": "yuBA8uya9PZb",
        "outputId": "53478a6d-fb1a-4c7a-a0eb-34d8b4a0fd17"
      },
      "source": [
        "from google.colab import drive\n",
        "drive.mount('/content/gdrive/')"
      ],
      "execution_count": 1,
      "outputs": [
        {
          "output_type": "stream",
          "text": [
            "Mounted at /content/gdrive/\n"
          ],
          "name": "stdout"
        }
      ]
    },
    {
      "cell_type": "code",
      "metadata": {
        "id": "GQwtpdQX9UfE"
      },
      "source": [
        "import sys\n",
        "sys.path.append('/content/gdrive/MyDrive/ACSE-9')"
      ],
      "execution_count": 2,
      "outputs": []
    },
    {
      "cell_type": "code",
      "metadata": {
        "id": "Z7xc6zZsmBmr"
      },
      "source": [
        "# #ensuring the script runs correctly + in the correct %dirs\n",
        "# !python vtktools.py"
      ],
      "execution_count": 3,
      "outputs": []
    },
    {
      "cell_type": "code",
      "metadata": {
        "colab": {
          "base_uri": "https://localhost:8080/"
        },
        "id": "loEky3ymmBmw",
        "outputId": "7ea0614e-b602-4090-a98f-2141275d23f3"
      },
      "source": [
        "# Imports\n",
        "from numpy import *\n",
        "from math  import *\n",
        "import sys, os\n",
        "import numpy as np\n",
        "!pip install vtk -q\n",
        "import vtk\n",
        "import vtktools\n",
        "import matplotlib.pyplot as plt\n",
        "import datetime, time\n",
        "\n",
        "import pprint as pprint"
      ],
      "execution_count": 4,
      "outputs": [
        {
          "output_type": "stream",
          "text": [
            "\u001b[K     |████████████████████████████████| 59.5 MB 45 kB/s \n",
            "\u001b[K     |████████████████████████████████| 3.1 MB 41.9 MB/s \n",
            "\u001b[K     |████████████████████████████████| 495 kB 39.3 MB/s \n",
            "\u001b[K     |████████████████████████████████| 74 kB 2.6 MB/s \n",
            "\u001b[K     |████████████████████████████████| 3.2 MB 29.0 MB/s \n",
            "\u001b[K     |████████████████████████████████| 251 kB 57.8 MB/s \n",
            "\u001b[K     |████████████████████████████████| 1.3 MB 65.1 MB/s \n",
            "\u001b[K     |████████████████████████████████| 294 kB 49.7 MB/s \n",
            "\u001b[K     |████████████████████████████████| 142 kB 43.8 MB/s \n",
            "\u001b[?25h"
          ],
          "name": "stdout"
        }
      ]
    },
    {
      "cell_type": "code",
      "metadata": {
        "id": "Kn0o_cFrmBmz"
      },
      "source": [
        "assert sys.version_info >= (3, 5)\n",
        "\n",
        "# Scikit-Learn ≥0.20 is required\n",
        "import sklearn\n",
        "assert sklearn.__version__ >= \"0.20\"\n",
        "\n",
        "# TensorFlow ≥2.0 is required\n",
        "import tensorflow as tf\n",
        "from tensorflow import keras\n",
        "assert tf.__version__ >= \"2.0\"\n",
        "\n",
        "# To plot pretty figures\n",
        "%matplotlib inline\n",
        "import matplotlib as mpl\n",
        "import matplotlib.pyplot as plt\n",
        "mpl.rc('axes', labelsize=14)\n",
        "mpl.rc('xtick', labelsize=12)\n",
        "mpl.rc('ytick', labelsize=12)\n",
        "\n",
        "import pandas as pd\n",
        "import joblib"
      ],
      "execution_count": 5,
      "outputs": []
    },
    {
      "cell_type": "markdown",
      "metadata": {
        "id": "k-DvLJ21mBm-"
      },
      "source": [
        "# Find the number of components to reduce to for PCA\n",
        "Principle Component Analysis extracts the components which are representitive of the variance of the data e.g. for $p_1, p_2, ... p_n$, $p_1$ represents the largest fraction of the variance and $p_n$ represents the smallest fraction of the variance for some integer $n$.\n",
        "\n",
        "Below we want approximately 95% of the explained variance to be represented by the principle components. \n",
        "\n",
        "First plot the find the explained variance distribution for all the data. We cannot set $p_{tot} = 1.0$ so it is set to $p_{tot} = 0.999995$."
      ]
    },
    {
      "cell_type": "code",
      "metadata": {
        "id": "iybmJufKmBnC"
      },
      "source": [
        "# Load matrix\n",
        "all_values = joblib.load('/content/gdrive/MyDrive/ACSE-9/output_pod_files/snapshot_matrix_410.pkl') "
      ],
      "execution_count": 6,
      "outputs": []
    },
    {
      "cell_type": "code",
      "metadata": {
        "colab": {
          "base_uri": "https://localhost:8080/"
        },
        "id": "iYaZmLwG-Rp4",
        "outputId": "8c66863d-793d-4906-b8b3-0a1b3d4b5d41"
      },
      "source": [
        "all_values.shape"
      ],
      "execution_count": 7,
      "outputs": [
        {
          "output_type": "execute_result",
          "data": {
            "text/plain": [
              "(410, 595624)"
            ]
          },
          "metadata": {
            "tags": []
          },
          "execution_count": 7
        }
      ]
    },
    {
      "cell_type": "code",
      "metadata": {
        "colab": {
          "base_uri": "https://localhost:8080/"
        },
        "id": "b-vqGXymmBnL",
        "outputId": "898913a0-6390-4fad-91eb-3a51b14c693c"
      },
      "source": [
        "from sklearn.decomposition import PCA\n",
        "\n",
        "# p_tot -> proportion of the variance we want to keep\n",
        "# p = 0.999\n",
        "p_tot = 0.9999999999999995\n",
        "# # Create an instance of the PCA model\n",
        "pca = PCA(p_tot)\n",
        "train_pca = pca.fit_transform(all_values)\n",
        "# In this case np.allclose == True because we are not yet\n",
        "# reducing the dimensionality\n",
        "X_recovered = pca.inverse_transform(train_pca)\n",
        "np.allclose(X_recovered, all_values)"
      ],
      "execution_count": 8,
      "outputs": [
        {
          "output_type": "execute_result",
          "data": {
            "text/plain": [
              "True"
            ]
          },
          "metadata": {
            "tags": []
          },
          "execution_count": 8
        }
      ]
    },
    {
      "cell_type": "code",
      "metadata": {
        "colab": {
          "base_uri": "https://localhost:8080/"
        },
        "id": "hjtpXeGfmBnn",
        "outputId": "15a3e9c6-dd7d-4475-e13d-575a99693ac5"
      },
      "source": [
        "all_values"
      ],
      "execution_count": 9,
      "outputs": [
        {
          "output_type": "execute_result",
          "data": {
            "text/plain": [
              "array([[ 1.        ,  1.        ,  1.        , ...,  0.58938422,\n",
              "        -0.10946988, -0.10174592],\n",
              "       [ 0.97360818,  0.98210026,  0.96064208, ..., -0.50187646,\n",
              "         0.89386907,  1.        ],\n",
              "       [ 0.63525847, -0.1372478 , -0.38702153, ..., -0.45218777,\n",
              "         0.57175512,  0.62440241],\n",
              "       ...,\n",
              "       [-0.99976513, -0.99991271, -0.99938171, ...,  0.70392922,\n",
              "        -0.12285544, -0.12074436],\n",
              "       [-0.99974408, -0.99990316, -0.9993286 , ...,  0.54013904,\n",
              "        -0.24523432, -0.23086515],\n",
              "       [-0.99972373, -0.99989336, -0.9992791 , ...,  0.53738397,\n",
              "        -0.2578244 , -0.23995282]])"
            ]
          },
          "metadata": {
            "tags": []
          },
          "execution_count": 9
        }
      ]
    },
    {
      "cell_type": "code",
      "metadata": {
        "colab": {
          "base_uri": "https://localhost:8080/"
        },
        "id": "yIKwVcJYmBnr",
        "outputId": "dffc4a18-c034-494e-d845-eea40e42e97a"
      },
      "source": [
        "# Number of components the pca results in is for almost 1.0 variance -> close to 410 as expected\n",
        "pca.n_components_"
      ],
      "execution_count": 10,
      "outputs": [
        {
          "output_type": "execute_result",
          "data": {
            "text/plain": [
              "406"
            ]
          },
          "metadata": {
            "tags": []
          },
          "execution_count": 10
        }
      ]
    },
    {
      "cell_type": "code",
      "metadata": {
        "colab": {
          "base_uri": "https://localhost:8080/"
        },
        "id": "upuo2EZKmBn1",
        "outputId": "9c1a28ff-1853-48be-ac19-32efcc3e8c01"
      },
      "source": [
        "pca.explained_variance_ratio_"
      ],
      "execution_count": 11,
      "outputs": [
        {
          "output_type": "execute_result",
          "data": {
            "text/plain": [
              "array([4.44040536e-01, 2.61350888e-01, 7.23348210e-02, 5.15312869e-02,\n",
              "       2.48136813e-02, 2.19407679e-02, 1.70255227e-02, 1.60464720e-02,\n",
              "       1.24974096e-02, 9.64975122e-03, 8.65102916e-03, 7.63786572e-03,\n",
              "       5.97313186e-03, 5.10202901e-03, 4.54165754e-03, 3.76920094e-03,\n",
              "       3.42443003e-03, 2.72829593e-03, 2.48936026e-03, 2.10497820e-03,\n",
              "       1.92849736e-03, 1.57422066e-03, 1.46853054e-03, 1.41979190e-03,\n",
              "       1.17485448e-03, 1.00561862e-03, 9.23344685e-04, 8.69774000e-04,\n",
              "       7.90402157e-04, 7.71331429e-04, 6.65152415e-04, 6.02844597e-04,\n",
              "       5.59414355e-04, 5.44720443e-04, 4.96222787e-04, 4.61973844e-04,\n",
              "       4.20163668e-04, 3.94081287e-04, 3.51598693e-04, 3.13912454e-04,\n",
              "       3.00027284e-04, 2.84448215e-04, 2.61627791e-04, 2.55533537e-04,\n",
              "       2.36558488e-04, 2.12251440e-04, 2.03223016e-04, 1.91798921e-04,\n",
              "       1.72647958e-04, 1.62267246e-04, 1.57028106e-04, 1.44917988e-04,\n",
              "       1.39180740e-04, 1.29547632e-04, 1.20098712e-04, 1.14404155e-04,\n",
              "       1.08850373e-04, 1.01698622e-04, 9.92030472e-05, 9.31586543e-05,\n",
              "       8.61937281e-05, 8.43877119e-05, 7.91098787e-05, 7.31646245e-05,\n",
              "       7.07181695e-05, 6.97365571e-05, 6.48526322e-05, 6.17759061e-05,\n",
              "       5.91911264e-05, 5.72459556e-05, 5.54053210e-05, 5.26702451e-05,\n",
              "       5.05583165e-05, 4.70800836e-05, 4.60412946e-05, 4.34115765e-05,\n",
              "       4.05170934e-05, 3.94963957e-05, 3.72504810e-05, 3.56449603e-05,\n",
              "       3.35657459e-05, 3.27958457e-05, 3.11247848e-05, 3.10357302e-05,\n",
              "       2.92737783e-05, 2.72632020e-05, 2.65248254e-05, 2.52385526e-05,\n",
              "       2.51282974e-05, 2.44381190e-05, 2.37525902e-05, 2.30467653e-05,\n",
              "       2.17997019e-05, 2.10049932e-05, 1.93341144e-05, 1.84389175e-05,\n",
              "       1.82421847e-05, 1.71639820e-05, 1.65821888e-05, 1.59813711e-05,\n",
              "       1.57262089e-05, 1.47387317e-05, 1.44939120e-05, 1.38068723e-05,\n",
              "       1.26253762e-05, 1.22801403e-05, 1.22233427e-05, 1.19879276e-05,\n",
              "       1.13813246e-05, 1.08850097e-05, 1.06882462e-05, 1.04519562e-05,\n",
              "       9.73720707e-06, 9.51901951e-06, 9.20483213e-06, 9.06135219e-06,\n",
              "       8.76784692e-06, 8.52525518e-06, 8.45785154e-06, 7.98671727e-06,\n",
              "       7.88767638e-06, 7.79655040e-06, 7.39953801e-06, 7.26570282e-06,\n",
              "       7.09877353e-06, 6.93439705e-06, 6.73721591e-06, 6.37919278e-06,\n",
              "       6.13963053e-06, 5.99722899e-06, 5.79306179e-06, 5.57049211e-06,\n",
              "       5.35151383e-06, 5.19041453e-06, 5.18071053e-06, 4.86302739e-06,\n",
              "       4.71536941e-06, 4.61894860e-06, 4.48093865e-06, 4.39184502e-06,\n",
              "       4.28653353e-06, 4.09191480e-06, 4.05157900e-06, 3.90403590e-06,\n",
              "       3.65545921e-06, 3.63822965e-06, 3.55370651e-06, 3.47504921e-06,\n",
              "       3.43541666e-06, 3.15990154e-06, 3.12016964e-06, 3.03976540e-06,\n",
              "       2.96369029e-06, 2.91668328e-06, 2.73700570e-06, 2.69963563e-06,\n",
              "       2.51592352e-06, 2.45925751e-06, 2.40668595e-06, 2.30245056e-06,\n",
              "       2.26579014e-06, 2.23409142e-06, 2.15056847e-06, 2.10641394e-06,\n",
              "       2.03213070e-06, 1.97586856e-06, 1.91820850e-06, 1.85466061e-06,\n",
              "       1.82645350e-06, 1.75980362e-06, 1.67103546e-06, 1.64204781e-06,\n",
              "       1.56605288e-06, 1.52230612e-06, 1.49293346e-06, 1.42723855e-06,\n",
              "       1.41009197e-06, 1.37535220e-06, 1.34829681e-06, 1.29061936e-06,\n",
              "       1.27963249e-06, 1.22030493e-06, 1.20587875e-06, 1.18155153e-06,\n",
              "       1.14478008e-06, 1.08643806e-06, 1.07361724e-06, 1.04356063e-06,\n",
              "       1.01337374e-06, 9.81896010e-07, 9.75759770e-07, 9.20354218e-07,\n",
              "       9.18991698e-07, 8.86462388e-07, 8.39425307e-07, 8.08050279e-07,\n",
              "       8.00464228e-07, 7.73597977e-07, 7.59052851e-07, 7.40018548e-07,\n",
              "       7.15430400e-07, 6.85892649e-07, 6.74236842e-07, 6.45398782e-07,\n",
              "       6.27948727e-07, 6.13521996e-07, 5.96398185e-07, 5.82113527e-07,\n",
              "       5.49083887e-07, 5.41993062e-07, 5.23280628e-07, 5.10099571e-07,\n",
              "       4.91770545e-07, 4.85439547e-07, 4.79614384e-07, 4.56494684e-07,\n",
              "       4.51949368e-07, 4.40170089e-07, 4.25272372e-07, 4.14925149e-07,\n",
              "       3.99910133e-07, 3.88163351e-07, 3.76180599e-07, 3.71870614e-07,\n",
              "       3.52086131e-07, 3.44920569e-07, 3.41172359e-07, 3.31934342e-07,\n",
              "       3.15094556e-07, 3.10806548e-07, 3.07415899e-07, 2.96197842e-07,\n",
              "       2.88899806e-07, 2.83040262e-07, 2.72236504e-07, 2.65581513e-07,\n",
              "       2.54495819e-07, 2.47877255e-07, 2.41172530e-07, 2.37458656e-07,\n",
              "       2.23688107e-07, 2.21844919e-07, 2.13444548e-07, 2.11778171e-07,\n",
              "       2.04696226e-07, 1.99322894e-07, 1.93309438e-07, 1.91048390e-07,\n",
              "       1.84630337e-07, 1.83553673e-07, 1.74950446e-07, 1.67291313e-07,\n",
              "       1.61129119e-07, 1.57288887e-07, 1.54142397e-07, 1.48079254e-07,\n",
              "       1.43763559e-07, 1.39969512e-07, 1.33070721e-07, 1.28404654e-07,\n",
              "       1.24189090e-07, 1.18903968e-07, 1.11859873e-07, 1.10552341e-07,\n",
              "       1.07962295e-07, 1.05601024e-07, 9.89920254e-08, 9.32807279e-08,\n",
              "       9.28269652e-08, 9.09737344e-08, 8.81104265e-08, 8.50573236e-08,\n",
              "       8.18556472e-08, 8.11164403e-08, 7.79134610e-08, 7.64923939e-08,\n",
              "       7.46410558e-08, 7.30395445e-08, 7.15376686e-08, 7.01999518e-08,\n",
              "       6.81934610e-08, 6.72530632e-08, 6.59558264e-08, 6.18156729e-08,\n",
              "       6.14444751e-08, 5.92527732e-08, 5.72401201e-08, 5.34672805e-08,\n",
              "       5.21062369e-08, 4.75022814e-08, 4.72101576e-08, 4.46441473e-08,\n",
              "       4.35320049e-08, 4.23010799e-08, 4.05528440e-08, 3.95330146e-08,\n",
              "       3.81728025e-08, 3.75111170e-08, 3.69117414e-08, 3.56514462e-08,\n",
              "       3.40406731e-08, 3.29137750e-08, 3.23337066e-08, 3.00458921e-08,\n",
              "       2.97006209e-08, 2.86857483e-08, 2.82333214e-08, 2.70565607e-08,\n",
              "       2.68290300e-08, 2.49060732e-08, 2.41194754e-08, 2.35594262e-08,\n",
              "       2.27291525e-08, 2.23267685e-08, 2.14646766e-08, 2.11536065e-08,\n",
              "       2.02488610e-08, 1.96437710e-08, 1.89175228e-08, 1.85561785e-08,\n",
              "       1.79963709e-08, 1.78103781e-08, 1.67018323e-08, 1.60449566e-08,\n",
              "       1.53553719e-08, 1.49991912e-08, 1.45942692e-08, 1.41256490e-08,\n",
              "       1.36710690e-08, 1.32235748e-08, 1.29706538e-08, 1.26572261e-08,\n",
              "       1.20044141e-08, 1.16722728e-08, 1.11292312e-08, 1.10557373e-08,\n",
              "       1.07977746e-08, 9.93292648e-09, 9.77096098e-09, 9.35474382e-09,\n",
              "       9.04403852e-09, 8.96344885e-09, 8.57537770e-09, 8.22403992e-09,\n",
              "       7.94366485e-09, 7.50694827e-09, 7.46120016e-09, 7.19247701e-09,\n",
              "       6.86510955e-09, 6.66028996e-09, 6.37277889e-09, 6.23770320e-09,\n",
              "       5.91703648e-09, 5.60544685e-09, 5.41797445e-09, 5.26426890e-09,\n",
              "       5.14157975e-09, 5.04554701e-09, 4.65547697e-09, 4.48920208e-09,\n",
              "       4.30733876e-09, 4.11785766e-09, 3.99526556e-09, 3.86639887e-09,\n",
              "       3.60816083e-09, 3.40372071e-09, 3.29044145e-09, 3.23001283e-09,\n",
              "       3.09107740e-09, 2.90582617e-09, 2.87788593e-09, 2.60316758e-09,\n",
              "       2.56179247e-09, 2.46890650e-09, 2.39696473e-09, 2.13831082e-09,\n",
              "       2.06469568e-09, 1.92802100e-09, 1.90545350e-09, 1.84280230e-09,\n",
              "       1.78321733e-09, 1.65343923e-09, 1.60158933e-09, 1.49975173e-09,\n",
              "       1.42564391e-09, 1.39905650e-09, 1.34550619e-09, 1.20289822e-09,\n",
              "       1.15952508e-09, 1.12257955e-09, 1.07114838e-09, 1.01935485e-09,\n",
              "       9.74925479e-10, 8.34533722e-10, 8.12813726e-10, 7.84905768e-10,\n",
              "       7.34034101e-10, 6.04027692e-10, 5.55568548e-10, 5.13159295e-10,\n",
              "       4.75336085e-10, 3.95202361e-10, 3.81156110e-10, 2.89897711e-10,\n",
              "       1.81604094e-10, 1.40291009e-10])"
            ]
          },
          "metadata": {
            "tags": []
          },
          "execution_count": 11
        }
      ]
    },
    {
      "cell_type": "code",
      "metadata": {
        "colab": {
          "base_uri": "https://localhost:8080/"
        },
        "id": "HvPoi_RfmBn9",
        "outputId": "9b2dea8f-0c2f-47ac-fd1b-c7fe87d21b9e"
      },
      "source": [
        "pca.singular_values_"
      ],
      "execution_count": 12,
      "outputs": [
        {
          "output_type": "execute_result",
          "data": {
            "text/plain": [
              "array([3.83878899e+03, 2.94506525e+03, 1.54937533e+03, 1.30773102e+03,\n",
              "       9.07462173e+02, 8.53313944e+02, 7.51680283e+02, 7.29747662e+02,\n",
              "       6.44010477e+02, 5.65901688e+02, 5.35817408e+02, 5.03464601e+02,\n",
              "       4.45229551e+02, 4.11485365e+02, 3.88230921e+02, 3.53677618e+02,\n",
              "       3.37114226e+02, 3.00904490e+02, 2.87426500e+02, 2.64305824e+02,\n",
              "       2.52983651e+02, 2.28568161e+02, 2.20762052e+02, 2.17067737e+02,\n",
              "       1.97458108e+02, 1.82683610e+02, 1.75051106e+02, 1.69897169e+02,\n",
              "       1.61959710e+02, 1.59993907e+02, 1.48574240e+02, 1.41444354e+02,\n",
              "       1.36254149e+02, 1.34452774e+02, 1.28327958e+02, 1.23820235e+02,\n",
              "       1.18084305e+02, 1.14360445e+02, 1.08020593e+02, 1.02067436e+02,\n",
              "       9.97845508e+01, 9.71593359e+01, 9.31804639e+01, 9.20888149e+01,\n",
              "       8.86037695e+01, 8.39282667e+01, 8.21238644e+01, 7.97822006e+01,\n",
              "       7.56943832e+01, 7.33834902e+01, 7.21891001e+01, 6.93496190e+01,\n",
              "       6.79629940e+01, 6.55688657e+01, 6.31323719e+01, 6.16174655e+01,\n",
              "       6.01032410e+01, 5.80952287e+01, 5.73780041e+01, 5.56025276e+01,\n",
              "       5.34836162e+01, 5.29203292e+01, 5.12387222e+01, 4.92757797e+01,\n",
              "       4.84449416e+01, 4.81075436e+01, 4.63923887e+01, 4.52785482e+01,\n",
              "       4.43211717e+01, 4.35868351e+01, 4.28803843e+01, 4.18085977e+01,\n",
              "       4.09618189e+01, 3.95276999e+01, 3.90891921e+01, 3.79564608e+01,\n",
              "       3.66692538e+01, 3.62044258e+01, 3.51600006e+01, 3.43939455e+01,\n",
              "       3.33757537e+01, 3.29907621e+01, 3.21392775e+01, 3.20932660e+01,\n",
              "       3.11689607e+01, 3.00795519e+01, 2.96694297e+01, 2.89411080e+01,\n",
              "       2.88778238e+01, 2.84784809e+01, 2.80762060e+01, 2.76559079e+01,\n",
              "       2.68972704e+01, 2.64024485e+01, 2.53305765e+01, 2.47372058e+01,\n",
              "       2.46048859e+01, 2.38666770e+01, 2.34586955e+01, 2.30297885e+01,\n",
              "       2.28451993e+01, 2.21163263e+01, 2.19318739e+01, 2.14057567e+01,\n",
              "       2.04693992e+01, 2.01875956e+01, 2.01408560e+01, 1.99459620e+01,\n",
              "       1.94347669e+01, 1.90062895e+01, 1.88337220e+01, 1.86243756e+01,\n",
              "       1.79762928e+01, 1.77737489e+01, 1.74779651e+01, 1.73412116e+01,\n",
              "       1.70580511e+01, 1.68204118e+01, 1.67537859e+01, 1.62804756e+01,\n",
              "       1.61792160e+01, 1.60854856e+01, 1.56705859e+01, 1.55282225e+01,\n",
              "       1.53488058e+01, 1.51700595e+01, 1.49528220e+01, 1.45500938e+01,\n",
              "       1.42742747e+01, 1.41077660e+01, 1.38655471e+01, 1.35965810e+01,\n",
              "       1.33266581e+01, 1.31245358e+01, 1.31122613e+01, 1.27038773e+01,\n",
              "       1.25095242e+01, 1.23809650e+01, 1.21945964e+01, 1.20727563e+01,\n",
              "       1.19271325e+01, 1.16532274e+01, 1.15956497e+01, 1.13825570e+01,\n",
              "       1.10142239e+01, 1.09882362e+01, 1.08598471e+01, 1.07389893e+01,\n",
              "       1.06775752e+01, 1.02404657e+01, 1.01758814e+01, 1.00439135e+01,\n",
              "       9.91743449e+00, 9.83847004e+00, 9.53061184e+00, 9.46532449e+00,\n",
              "       9.13758960e+00, 9.03410085e+00, 8.93701820e+00, 8.74134152e+00,\n",
              "       8.67147092e+00, 8.61059973e+00, 8.44811016e+00, 8.36093393e+00,\n",
              "       8.21218547e+00, 8.09770510e+00, 7.97867613e+00, 7.84540116e+00,\n",
              "       7.78551313e+00, 7.64214080e+00, 7.44690415e+00, 7.38203042e+00,\n",
              "       7.20918454e+00, 7.10777920e+00, 7.03887344e+00, 6.88226222e+00,\n",
              "       6.84079618e+00, 6.75600395e+00, 6.68922315e+00, 6.54458359e+00,\n",
              "       6.51666747e+00, 6.36380867e+00, 6.32608105e+00, 6.26194522e+00,\n",
              "       6.16373507e+00, 6.00461845e+00, 5.96908372e+00, 5.88493642e+00,\n",
              "       5.79919557e+00, 5.70841684e+00, 5.69055186e+00, 5.52663057e+00,\n",
              "       5.52253816e+00, 5.42391766e+00, 5.27805559e+00, 5.17847786e+00,\n",
              "       5.15411252e+00, 5.06687971e+00, 5.01902015e+00, 4.95569117e+00,\n",
              "       4.87266581e+00, 4.77101745e+00, 4.73030530e+00, 4.62803891e+00,\n",
              "       4.56504459e+00, 4.51230035e+00, 4.44888406e+00, 4.39528233e+00,\n",
              "       4.26876533e+00, 4.24111252e+00, 4.16725676e+00, 4.11443694e+00,\n",
              "       4.03984021e+00, 4.01375175e+00, 3.98959702e+00, 3.89225059e+00,\n",
              "       3.87282455e+00, 3.82202211e+00, 3.75678651e+00, 3.71080224e+00,\n",
              "       3.64304164e+00, 3.58913832e+00, 3.53330500e+00, 3.51300576e+00,\n",
              "       3.41827808e+00, 3.38331534e+00, 3.36488209e+00, 3.31901354e+00,\n",
              "       3.23372721e+00, 3.21164853e+00, 3.19408224e+00, 3.13526227e+00,\n",
              "       3.09639642e+00, 3.06483459e+00, 3.00577253e+00, 2.96880622e+00,\n",
              "       2.90618500e+00, 2.86814610e+00, 2.82909057e+00, 2.80722313e+00,\n",
              "       2.72461020e+00, 2.71336160e+00, 2.66149384e+00, 2.65108424e+00,\n",
              "       2.60638069e+00, 2.57194409e+00, 2.53284994e+00, 2.51799360e+00,\n",
              "       2.47533774e+00, 2.46810977e+00, 2.40957505e+00, 2.35624055e+00,\n",
              "       2.31243720e+00, 2.28471457e+00, 2.26174681e+00, 2.21681800e+00,\n",
              "       2.18427512e+00, 2.15525993e+00, 2.10147480e+00, 2.06430238e+00,\n",
              "       2.03013376e+00, 1.98646586e+00, 1.92672660e+00, 1.91543273e+00,\n",
              "       1.89286214e+00, 1.87204807e+00, 1.81252095e+00, 1.75945796e+00,\n",
              "       1.75517331e+00, 1.73756453e+00, 1.71000186e+00, 1.68011414e+00,\n",
              "       1.64818992e+00, 1.64073096e+00, 1.60801161e+00, 1.59327983e+00,\n",
              "       1.57388073e+00, 1.55690445e+00, 1.54081438e+00, 1.52634018e+00,\n",
              "       1.50436873e+00, 1.49395999e+00, 1.47948142e+00, 1.43229420e+00,\n",
              "       1.42798732e+00, 1.40228818e+00, 1.37826650e+00, 1.33206979e+00,\n",
              "       1.31500616e+00, 1.25556779e+00, 1.25170116e+00, 1.21720912e+00,\n",
              "       1.20195239e+00, 1.18483714e+00, 1.16009509e+00, 1.14541508e+00,\n",
              "       1.12553746e+00, 1.11573981e+00, 1.10678993e+00, 1.08773100e+00,\n",
              "       1.06287453e+00, 1.04513353e+00, 1.03588293e+00, 9.98563029e-01,\n",
              "       9.92808977e-01, 9.75699366e-01, 9.67974501e-01, 9.47587289e-01,\n",
              "       9.43594535e-01, 9.09150039e-01, 8.94678210e-01, 8.84230081e-01,\n",
              "       8.68509458e-01, 8.60787330e-01, 8.44005168e-01, 8.37867109e-01,\n",
              "       8.19753407e-01, 8.07412303e-01, 7.92346354e-01, 7.84742551e-01,\n",
              "       7.72814744e-01, 7.68810846e-01, 7.44500495e-01, 7.29713204e-01,\n",
              "       7.13860088e-01, 7.05532221e-01, 6.95943701e-01, 6.84679203e-01,\n",
              "       6.73572223e-01, 6.62456505e-01, 6.56090674e-01, 6.48115191e-01,\n",
              "       6.31180270e-01, 6.22387190e-01, 6.07736770e-01, 6.05726797e-01,\n",
              "       5.98618398e-01, 5.74144940e-01, 5.69444720e-01, 5.57184313e-01,\n",
              "       5.47853112e-01, 5.45406744e-01, 5.33469457e-01, 5.22426906e-01,\n",
              "       5.13444360e-01, 4.99131114e-01, 4.97607911e-01, 4.88564799e-01,\n",
              "       4.77316742e-01, 4.70142486e-01, 4.59883001e-01, 4.54983120e-01,\n",
              "       4.43133981e-01, 4.31308533e-01, 4.24034710e-01, 4.17976595e-01,\n",
              "       4.13077195e-01, 4.09201352e-01, 3.93065587e-01, 3.85982406e-01,\n",
              "       3.78083257e-01, 3.69673736e-01, 3.64129410e-01, 3.58208806e-01,\n",
              "       3.46039659e-01, 3.36093327e-01, 3.30453241e-01, 3.27404809e-01,\n",
              "       3.20285938e-01, 3.10540142e-01, 3.09043575e-01, 2.93923286e-01,\n",
              "       2.91578101e-01, 2.86243249e-01, 2.82041979e-01, 2.66390264e-01,\n",
              "       2.61764625e-01, 2.52952404e-01, 2.51467641e-01, 2.47298968e-01,\n",
              "       2.43268047e-01, 2.34248625e-01, 2.30546490e-01, 2.23096428e-01,\n",
              "       2.17514625e-01, 2.15476820e-01, 2.11312789e-01, 1.99800869e-01,\n",
              "       1.96165669e-01, 1.93015192e-01, 1.88541843e-01, 1.83927059e-01,\n",
              "       1.79874103e-01, 1.66419754e-01, 1.64239814e-01, 1.61395600e-01,\n",
              "       1.56077769e-01, 1.41583080e-01, 1.35784988e-01, 1.30499555e-01,\n",
              "       1.25598173e-01, 1.14522995e-01, 1.12469399e-01, 9.80856161e-02,\n",
              "       7.76328890e-02, 6.82335317e-02])"
            ]
          },
          "metadata": {
            "tags": []
          },
          "execution_count": 12
        }
      ]
    },
    {
      "cell_type": "code",
      "metadata": {
        "colab": {
          "base_uri": "https://localhost:8080/"
        },
        "id": "waE6cakemBoB",
        "outputId": "e27a45e3-4948-4ae7-fdfd-80874d1f3c56"
      },
      "source": [
        "# shape is the same as before\n",
        "train_pca.shape"
      ],
      "execution_count": 13,
      "outputs": [
        {
          "output_type": "execute_result",
          "data": {
            "text/plain": [
              "(410, 406)"
            ]
          },
          "metadata": {
            "tags": []
          },
          "execution_count": 13
        }
      ]
    },
    {
      "cell_type": "code",
      "metadata": {
        "colab": {
          "base_uri": "https://localhost:8080/"
        },
        "id": "ztkxqvihmBoD",
        "outputId": "ca340c85-1196-4b61-8b2e-fa9be24df0b5"
      },
      "source": [
        "# Find the cumulative sum of the explained variance ratio to plot\n",
        "p = 0.995\n",
        "cumsum_eig = np.cumsum(pca.explained_variance_ratio_)\n",
        "d_tot = pca.n_components_\n",
        "# Find the number of principle components \n",
        "d = np.argmax(cumsum_eig >= p) + 1\n",
        "print(\"initial number of components = \", d_tot)\n",
        "print(\"number of components after PCA = \", d)"
      ],
      "execution_count": 14,
      "outputs": [
        {
          "output_type": "stream",
          "text": [
            "initial number of components =  406\n",
            "number of components after PCA =  43\n"
          ],
          "name": "stdout"
        }
      ]
    },
    {
      "cell_type": "code",
      "metadata": {
        "colab": {
          "base_uri": "https://localhost:8080/",
          "height": 441
        },
        "id": "W1PgNidVmBoE",
        "outputId": "671f6ac5-37c0-4d38-a891-ac9df332ac40"
      },
      "source": [
        "x_dims = np.linspace(0, d_tot, d_tot)\n",
        "plt.figure(figsize=(12,6))\n",
        "plt.plot(x_dims, cumsum_eig, linewidth=2)\n",
        "plt.xlabel(\"Dimensions\")\n",
        "plt.ylabel(\"Explained Variance\")\n",
        "plt.ylim([cumsum_eig[0],1.1])\n",
        "plt.plot([d, d], [0, p], \"k:\")\n",
        "plt.plot([0, d], [p, p], \"k:\")\n",
        "plt.plot(d, p, \"ko\")\n",
        "plt.annotate(\"43 principal components\", xy=(d, p), xytext=(d, cumsum_eig[0]+0.05),\n",
        "             arrowprops=dict(arrowstyle=\"->\"), fontsize=16)\n",
        "plt.grid(True)\n",
        "plt.tight_layout()\n",
        "plt.show()"
      ],
      "execution_count": 15,
      "outputs": [
        {
          "output_type": "display_data",
          "data": {
            "image/png": "[encoded data removed]",
            "text/plain": [
              "<Figure size 864x432 with 1 Axes>"
            ]
          },
          "metadata": {
            "tags": [],
            "needs_background": "light"
          }
        }
      ]
    },
    {
      "cell_type": "code",
      "metadata": {
        "colab": {
          "base_uri": "https://localhost:8080/",
          "height": 433
        },
        "id": "YgYI1DRlzwuH",
        "outputId": "010bb0d7-0449-4a79-de06-d51e2fe90055"
      },
      "source": [
        "# Plot   \n",
        "mpl.rcParams.update({'font.size': 14})\n",
        "mpl.rc('xtick', labelsize=14) \n",
        "mpl.rc('ytick', labelsize=14) \n",
        "mpl.rc('axes', labelsize=14)\n",
        "\n",
        "fig, ax = plt.subplots(1,1,figsize=(12,6))\n",
        "ax.plot(range(1,len(pca.singular_values_)+1), pca.singular_values_, linewidth=2)\n",
        "ax.set_xlabel(\"Dimensions\")\n",
        "ax.set_ylabel(\"Singular values\")\n",
        "ax.set_xscale('log')\n",
        "#ax.set_yscale('log') \n",
        "#ax.ticklabel_format(axis=\"y\", style=\"sci\", scilimits=(0,0))\n",
        "#plt.yscale('log') \n",
        "ax.plot(d, pca.singular_values_[d-1], \"ko\")\n",
        "# ax.annotate(\"16 principal components\", xy=(d, pca.singular_values_[d-1]), xytext=(d+2, 1e5),\n",
        "#              arrowprops=dict(arrowstyle=\"->\"), fontsize=22)\n",
        "ax.grid()\n",
        "#ax.grid(True, which=\"both\", ls=\"-\", color='0.65')\n",
        "plt.tight_layout()\n",
        "#plt.savefig('PCA_sv1.eps')\n",
        "\n",
        "ax.grid()\n",
        "#ax.grid(True, which=\"both\", ls=\"-\", color='0.65')\n",
        "plt.tight_layout()"
      ],
      "execution_count": 16,
      "outputs": [
        {
          "output_type": "display_data",
          "data": {
            "image/png": "[encoded data removed]",
            "text/plain": [
              "<Figure size 864x432 with 1 Axes>"
            ]
          },
          "metadata": {
            "tags": [],
            "needs_background": "light"
          }
        }
      ]
    },
    {
      "cell_type": "markdown",
      "metadata": {
        "id": "9bT9KCurmBoM"
      },
      "source": [
        "# Apply PCA to the Data\n",
        "\n",
        "Bring the number of components down to 43 as shown previously to represent 99.55% of the data. In this case `np.allclose(X_recovered, all_values) == False` since we are reducing the dimensionality of the data."
      ]
    },
    {
      "cell_type": "code",
      "metadata": {
        "colab": {
          "base_uri": "https://localhost:8080/"
        },
        "id": "zXeORwwgmBoS",
        "outputId": "b693d08e-c98a-4232-de66-62d609c32954"
      },
      "source": [
        "pca_compress = PCA(n_components=d)\n",
        "X_train_pca = pca_compress.fit_transform(all_values)\n",
        "X_recovered = pca_compress.inverse_transform(X_train_pca)\n",
        "print(np.allclose(X_recovered, all_values))\n",
        "X_train_pca.shape"
      ],
      "execution_count": 17,
      "outputs": [
        {
          "output_type": "stream",
          "text": [
            "False\n"
          ],
          "name": "stdout"
        },
        {
          "output_type": "execute_result",
          "data": {
            "text/plain": [
              "(410, 43)"
            ]
          },
          "metadata": {
            "tags": []
          },
          "execution_count": 17
        }
      ]
    },
    {
      "cell_type": "code",
      "metadata": {
        "colab": {
          "base_uri": "https://localhost:8080/"
        },
        "id": "j1OtPlJIhds6",
        "outputId": "3633d901-6115-4beb-c237-ffccc4ec4ab4"
      },
      "source": [
        "print(all_values, \"\\n\\n\")\n",
        "print(X_train_pca)"
      ],
      "execution_count": 21,
      "outputs": [
        {
          "output_type": "stream",
          "text": [
            "[[ 1.          1.          1.         ...  0.58938422 -0.10946988\n",
            "  -0.10174592]\n",
            " [ 0.97360818  0.98210026  0.96064208 ... -0.50187646  0.89386907\n",
            "   1.        ]\n",
            " [ 0.63525847 -0.1372478  -0.38702153 ... -0.45218777  0.57175512\n",
            "   0.62440241]\n",
            " ...\n",
            " [-0.99976513 -0.99991271 -0.99938171 ...  0.70392922 -0.12285544\n",
            "  -0.12074436]\n",
            " [-0.99974408 -0.99990316 -0.9993286  ...  0.54013904 -0.24523432\n",
            "  -0.23086515]\n",
            " [-0.99972373 -0.99989336 -0.9992791  ...  0.53738397 -0.2578244\n",
            "  -0.23995282]] \n",
            "\n",
            "\n",
            "[[ 3.37709998e+02  2.06305823e+01  1.88619242e+02 ... -1.38177589e-01\n",
            "  -1.45124088e-01  4.50370459e-01]\n",
            " [ 3.00713410e+02  4.39191655e+02  2.17048304e+02 ... -4.54497362e+00\n",
            "   1.22846084e+00 -2.60247622e+00]\n",
            " [ 2.99835931e+02  4.75150556e+02  2.02440047e+02 ...  1.74492493e+01\n",
            "   2.87066437e+00  1.78825705e+00]\n",
            " ...\n",
            " [-3.01195307e+02 -5.04439826e+01  1.34206710e+02 ... -1.41454525e+00\n",
            "   4.10086381e+00 -2.15422833e+00]\n",
            " [-3.02063245e+02 -7.05102756e+01  1.38604791e+02 ... -4.89843560e+00\n",
            "   2.12563268e+00 -2.15156179e+00]\n",
            " [-3.03040851e+02 -7.39551190e+01  1.40492843e+02 ... -5.47658211e+00\n",
            "   1.50292492e+00 -2.30413163e+00]]\n"
          ],
          "name": "stdout"
        }
      ]
    },
    {
      "cell_type": "code",
      "metadata": {
        "colab": {
          "base_uri": "https://localhost:8080/"
        },
        "id": "H8PAyt_kmBoY",
        "outputId": "2339b4c7-77d5-4267-948c-abd0ca4bef03"
      },
      "source": [
        "pca_compress.singular_values_"
      ],
      "execution_count": 18,
      "outputs": [
        {
          "output_type": "execute_result",
          "data": {
            "text/plain": [
              "array([3838.78898894, 2945.06525071, 1549.37533095, 1307.73101925,\n",
              "        907.46217335,  853.31394419,  751.68028291,  729.74766159,\n",
              "        644.01047653,  565.90168833,  535.81740789,  503.46460143,\n",
              "        445.22955134,  411.48536452,  388.2309215 ,  353.67761786,\n",
              "        337.11422598,  300.90449032,  287.42650047,  264.30582362,\n",
              "        252.98365053,  228.56816137,  220.76205197,  217.06773693,\n",
              "        197.45810736,  182.6836093 ,  175.05110289,  169.89716748,\n",
              "        161.95970484,  159.99385494,  148.57419838,  141.44431839,\n",
              "        136.25404161,  134.45267354,  128.32767238,  123.81944395,\n",
              "        118.08353395,  114.35964285,  108.0128403 ,  102.05794806,\n",
              "         99.75950346,   97.15299352,   93.1320086 ])"
            ]
          },
          "metadata": {
            "tags": []
          },
          "execution_count": 18
        }
      ]
    },
    {
      "cell_type": "markdown",
      "metadata": {
        "id": "xXYFOTcymBoc"
      },
      "source": [
        "### Test for Transformations \n",
        "Check to see if undoing the transformations results in negative values or anomolies. This test does not work in this file! Move this test or import `loadvtufile()` "
      ]
    },
    {
      "cell_type": "code",
      "metadata": {
        "id": "R1_f0OkdmBm5"
      },
      "source": [
        "def loadvtufile(path, name_simu, fieldname, vtu_start, vtu_end, vtu_step):\n",
        "    \"\"\"\n",
        "    Read in .vtu files for a particular field\n",
        "    \n",
        "    Parameters\n",
        "    ----------\n",
        "    path : str \n",
        "        path to the folder containing the .vtu files\n",
        "    name_simu : str\n",
        "        name of the simulation data\n",
        "    field_name : str\n",
        "        field to read in e.g. CO2_ppm \n",
        "    vtu_start : int\n",
        "        file number to start reading from  \n",
        "    vtu_end : int\n",
        "        file number to read up to\n",
        "    vtu_step : int\n",
        "        how many files to step across\n",
        "    Returns\n",
        "    -------\n",
        "    numpy.ndarray \n",
        "        Returns the data from a particular field \n",
        "    \"\"\"\n",
        "    tic = time.time()\n",
        "    \n",
        "    extension = '.vtu'\n",
        "    \n",
        "    all_data = []\n",
        "\n",
        "    #---------------------------------------------------------------------\n",
        "    # EXTRACT DATA\n",
        "    #---------------------------------------------------------------------\n",
        "    for vtuID in range(vtu_start,vtu_end + 1,vtu_step):\n",
        "        filename=path+name_simu+'_'+str(vtuID)+extension\n",
        "        print ('\\n  '+str(filename))\n",
        "\n",
        "        vtu_data = vtktools.vtu(filename)\n",
        "        data     = vtu_data.GetField(fieldname)\n",
        "        #print (data)\n",
        "        all_data.append(data)\n",
        "\n",
        "\n",
        "    toc = time.time() #added \n",
        "    print ('\\n\\nTime : ', toc - tic, 'sec')\n",
        "    return np.array(all_data)\n",
        "    #pprint.pprint(data)"
      ],
      "execution_count": null,
      "outputs": []
    },
    {
      "cell_type": "code",
      "metadata": {
        "id": "gxVCXNgImBm7"
      },
      "source": [
        "#--------------------------------#\n",
        "#-- Choose variables           --#\n",
        "#--------------------------------#\n",
        "# Vtu files\n",
        "# path      = '../ClarenceCentre/run_Clip_ToSend/'\n",
        "path = '/content/gdrive/MyDrive/ACSE-9/ClarenceCentre/run_Clip_ToSend/'\n",
        "name_simu = 'ClarenceCentre'\n",
        "vtu_step  = 1"
      ],
      "execution_count": null,
      "outputs": []
    },
    {
      "cell_type": "code",
      "metadata": {
        "scrolled": false,
        "id": "Z36caXy6mBog"
      },
      "source": [
        "# from sklearn.preprocessing import MinMaxScaler\n",
        "\n",
        "# CO2data_sub = loadvtufile(path, name_simu, 'CO2_ppm', 0, 10, vtu_step)\n",
        "\n",
        "# nfiles_sub = CO2data_sub.shape[0]\n",
        "# nNodes_sub = CO2data_sub.shape[1]\n",
        "# CO2_data_sub = CO2data_sub.reshape((nfiles_sub, nNodes_sub))\n",
        "# print(\"CO2_data_sub.shape\", CO2_data_sub.shape)\n",
        "\n",
        "# scaler_std_sub = MinMaxScaler((-1, 1))\n",
        "\n",
        "# scaler_std_sub.fit(CO2_data_sub)\n",
        "\n",
        "# # Apply transform to both the training set and the test set.\n",
        "# norm_co2_sub = scaler_std_sub.transform(CO2_data_sub)\n",
        "# print(\"norm_co2_sub.shape\", norm_co2_sub.shape)\n",
        "\n",
        "# all_data_sub = []\n",
        "# for i in range(nfiles_sub):\n",
        "#     all_data_sub.append(norm_co2_sub[i].reshape(-1, 1))\n",
        "# alldata_sub = np.array(all_data_sub)\n",
        "\n",
        "# # Check the shape of the array\n",
        "# print(\"initial shape\", alldata_sub.shape)\n",
        "# # reshape st it takes the appropriate form\n",
        "# all_values_sub = np.array(alldata_sub).reshape(nfiles_sub, nNodes_sub)\n",
        "# print(\"Snapshot Matrix Shape\", all_values_sub.shape)"
      ],
      "execution_count": null,
      "outputs": []
    },
    {
      "cell_type": "markdown",
      "metadata": {
        "id": "IqVg1pdEmBon"
      },
      "source": [
        "### Steps:\n",
        "- Apply PCA and reduce to 6 components \n",
        "- Undo PCA to obtain a scaled snapshot matrix\n",
        "- Undo $(-1, 1)$ scaling"
      ]
    },
    {
      "cell_type": "code",
      "metadata": {
        "id": "IaiOB_vzmBos"
      },
      "source": [
        "# from sklearn.decomposition import PCA\n",
        "\n",
        "# pca_compress_sub = PCA(n_components=6, whiten=False)\n",
        "# X_train_pca_sub = pca_compress_sub.fit_transform(all_values_sub)\n",
        "# X_recovered_sub = pca_compress_sub.inverse_transform(X_train_pca_sub)\n",
        "# print(np.allclose(X_recovered_sub, all_values_sub))\n",
        "# # number of time levels x number of components \n",
        "# print(\"X_train_pca_sub.shape\", X_train_pca_sub.shape)\n",
        "\n",
        "# ### Inverse Transform\n",
        "# S_gen = scaler_std_sub.inverse_transform(X_recovered_sub)\n",
        "# print(\"max value of generated S_sub = \", np.max(S_gen))\n",
        "# print(\"max value of real S_sub = \", np.max(CO2_data_sub))\n",
        "# print(\"min value of generated S_sub = \", np.min(S_gen))\n",
        "# print(\"min value of real S_sub = \", np.min(CO2_data_sub))"
      ],
      "execution_count": null,
      "outputs": []
    },
    {
      "cell_type": "markdown",
      "metadata": {
        "id": "deaNWrKtmBou"
      },
      "source": [
        "# Output the PCA/POD coefficients to a `.csv` file "
      ]
    },
    {
      "cell_type": "code",
      "metadata": {
        "colab": {
          "base_uri": "https://localhost:8080/"
        },
        "id": "Q3vRr1HMfD7w",
        "outputId": "b731e229-8e72-41b6-dbd6-b615fb9aee08"
      },
      "source": [
        "X_train_pca.max()"
      ],
      "execution_count": 19,
      "outputs": [
        {
          "output_type": "execute_result",
          "data": {
            "text/plain": [
              "475.150556044023"
            ]
          },
          "metadata": {
            "tags": []
          },
          "execution_count": 19
        }
      ]
    },
    {
      "cell_type": "code",
      "metadata": {
        "colab": {
          "base_uri": "https://localhost:8080/"
        },
        "id": "h1giy4OmmBow",
        "outputId": "5a6e2214-39a7-463c-c23f-a13afd1f4af0"
      },
      "source": [
        "import joblib\n",
        "joblib.dump(X_train_pca, '/content/gdrive/MyDrive/ACSE-9/output_pod_files/pod_coefficients_410.pkl') \n",
        "joblib.dump(all_values, '/content/gdrive/MyDrive/ACSE-9/output_pod_files/X_train_1D_410.pkl')\n",
        "joblib.dump(pca_compress, '/content/gdrive/MyDrive/ACSE-9/output_pod_files/pca_compress_410.pkl')"
      ],
      "execution_count": null,
      "outputs": [
        {
          "output_type": "execute_result",
          "data": {
            "text/plain": [
              "['/content/gdrive/MyDrive/ACSE-9/output_pod_files/pca_compress_410.pkl']"
            ]
          },
          "metadata": {
            "tags": []
          },
          "execution_count": 24
        }
      ]
    },
    {
      "cell_type": "code",
      "metadata": {
        "id": "eSB0DtChAnWC"
      },
      "source": [
        "# # optimisation of test of file saving & reading test\n",
        "# test1 = np.loadtxt('/content/gdrive/MyDrive/ACSE-9/output_pod_files/X_train_1D_full.csv', delimiter=',')\n",
        "# test2 = joblib.load('/content/gdrive/MyDrive/ACSE-9/output_pod_files/X_train_1D_full_test.pkl')\n",
        "\n",
        "# print(np.allclose(test1, test2))"
      ],
      "execution_count": null,
      "outputs": []
    }
  ]
}