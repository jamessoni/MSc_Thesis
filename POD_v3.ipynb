{
  "nbformat": 4,
  "nbformat_minor": 0,
  "metadata": {
    "colab": {
      "name": "POD_v3.ipynb",
      "provenance": [],
      "collapsed_sections": []
    },
    "kernelspec": {
      "display_name": "Python 3",
      "language": "python",
      "name": "python3"
    },
    "language_info": {
      "codemirror_mode": {
        "name": "ipython",
        "version": 3
      },
      "file_extension": ".py",
      "mimetype": "text/x-python",
      "name": "python",
      "nbconvert_exporter": "python",
      "pygments_lexer": "ipython3",
      "version": "3.7.3"
    }
  },
  "cells": [
    {
      "cell_type": "markdown",
      "metadata": {
        "id": "aCOtQnxJJ7cM"
      },
      "source": [
        "### POD/PCA dimensionality reduction"
      ]
    },
    {
      "cell_type": "code",
      "metadata": {
        "colab": {
          "base_uri": "https://localhost:8080/"
        },
        "id": "TB1VwAOBK5rX",
        "outputId": "c0f41a87-5c26-4f93-b7e4-5c24326bab3d"
      },
      "source": [
        "from google.colab import drive\n",
        "drive.mount('/content/gdrive/')"
      ],
      "execution_count": null,
      "outputs": [
        {
          "output_type": "stream",
          "text": [
            "Drive already mounted at /content/gdrive/; to attempt to forcibly remount, call drive.mount(\"/content/gdrive/\", force_remount=True).\n"
          ],
          "name": "stdout"
        }
      ]
    },
    {
      "cell_type": "code",
      "metadata": {
        "id": "mFdD4h_ILGGs"
      },
      "source": [
        "import sys\n",
        "sys.path.append('/content/gdrive/MyDrive/ACSE-9')"
      ],
      "execution_count": null,
      "outputs": []
    },
    {
      "cell_type": "code",
      "metadata": {
        "id": "jTn5luwCJ7cO"
      },
      "source": [
        "#ensuring the script runs correctly + in the correct %dirs\n",
        "#!python vtktools"
      ],
      "execution_count": null,
      "outputs": []
    },
    {
      "cell_type": "code",
      "metadata": {
        "colab": {
          "base_uri": "https://localhost:8080/"
        },
        "id": "J4XBEN-5J7cP",
        "outputId": "cdf14743-199d-4599-c8d9-f1725bd6ce51"
      },
      "source": [
        "# Imports\n",
        "from numpy import *\n",
        "from math  import *\n",
        "import sys, os\n",
        "import numpy as np\n",
        "!pip install vtk\n",
        "import vtk\n",
        "import vtktools\n",
        "import matplotlib.pyplot as plt\n",
        "import datetime, time\n",
        "\n",
        "import pprint as pprint"
      ],
      "execution_count": null,
      "outputs": [
        {
          "output_type": "stream",
          "text": [
            "Requirement already satisfied: vtk in /usr/local/lib/python3.7/dist-packages (9.0.3)\n",
            "Requirement already satisfied: autobahn>=17.7.1 in /usr/local/lib/python3.7/dist-packages (from vtk) (21.3.1)\n",
            "Requirement already satisfied: matplotlib>=2.0.0 in /usr/local/lib/python3.7/dist-packages (from vtk) (3.2.2)\n",
            "Requirement already satisfied: Twisted>=17.5.0 in /usr/local/lib/python3.7/dist-packages (from vtk) (21.2.0)\n",
            "Requirement already satisfied: wslink>=0.1.3 in /usr/local/lib/python3.7/dist-packages (from vtk) (0.2.0)\n",
            "Requirement already satisfied: hyperlink>=21.0.0 in /usr/local/lib/python3.7/dist-packages (from autobahn>=17.7.1->vtk) (21.0.0)\n",
            "Requirement already satisfied: txaio>=21.2.1 in /usr/local/lib/python3.7/dist-packages (from autobahn>=17.7.1->vtk) (21.2.1)\n",
            "Requirement already satisfied: cryptography>=3.4.6 in /usr/local/lib/python3.7/dist-packages (from autobahn>=17.7.1->vtk) (3.4.7)\n",
            "Requirement already satisfied: pyparsing!=2.0.4,!=2.1.2,!=2.1.6,>=2.0.1 in /usr/local/lib/python3.7/dist-packages (from matplotlib>=2.0.0->vtk) (2.4.7)\n",
            "Requirement already satisfied: kiwisolver>=1.0.1 in /usr/local/lib/python3.7/dist-packages (from matplotlib>=2.0.0->vtk) (1.3.1)\n",
            "Requirement already satisfied: cycler>=0.10 in /usr/local/lib/python3.7/dist-packages (from matplotlib>=2.0.0->vtk) (0.10.0)\n",
            "Requirement already satisfied: numpy>=1.11 in /usr/local/lib/python3.7/dist-packages (from matplotlib>=2.0.0->vtk) (1.19.5)\n",
            "Requirement already satisfied: python-dateutil>=2.1 in /usr/local/lib/python3.7/dist-packages (from matplotlib>=2.0.0->vtk) (2.8.1)\n",
            "Requirement already satisfied: Automat>=0.8.0 in /usr/local/lib/python3.7/dist-packages (from Twisted>=17.5.0->vtk) (20.2.0)\n",
            "Requirement already satisfied: constantly>=15.1 in /usr/local/lib/python3.7/dist-packages (from Twisted>=17.5.0->vtk) (15.1.0)\n",
            "Requirement already satisfied: attrs>=19.2.0 in /usr/local/lib/python3.7/dist-packages (from Twisted>=17.5.0->vtk) (21.2.0)\n",
            "Requirement already satisfied: incremental>=16.10.1 in /usr/local/lib/python3.7/dist-packages (from Twisted>=17.5.0->vtk) (21.3.0)\n",
            "Requirement already satisfied: zope.interface>=4.4.2 in /usr/local/lib/python3.7/dist-packages (from Twisted>=17.5.0->vtk) (5.4.0)\n",
            "Requirement already satisfied: idna>=2.5 in /usr/local/lib/python3.7/dist-packages (from hyperlink>=21.0.0->autobahn>=17.7.1->vtk) (2.10)\n",
            "Requirement already satisfied: cffi>=1.12 in /usr/local/lib/python3.7/dist-packages (from cryptography>=3.4.6->autobahn>=17.7.1->vtk) (1.14.5)\n",
            "Requirement already satisfied: six in /usr/local/lib/python3.7/dist-packages (from cycler>=0.10->matplotlib>=2.0.0->vtk) (1.15.0)\n",
            "Requirement already satisfied: setuptools in /usr/local/lib/python3.7/dist-packages (from zope.interface>=4.4.2->Twisted>=17.5.0->vtk) (57.0.0)\n",
            "Requirement already satisfied: pycparser in /usr/local/lib/python3.7/dist-packages (from cffi>=1.12->cryptography>=3.4.6->autobahn>=17.7.1->vtk) (2.20)\n"
          ],
          "name": "stdout"
        }
      ]
    },
    {
      "cell_type": "markdown",
      "metadata": {
        "id": "0PMXGohfJ7cQ"
      },
      "source": [
        "Couple more imports taken from vinicius' code"
      ]
    },
    {
      "cell_type": "code",
      "metadata": {
        "id": "vlSgEUM9J7cR"
      },
      "source": [
        "assert sys.version_info >= (3, 5)\n",
        "\n",
        "# Scikit-Learn ≥0.20 is required\n",
        "import sklearn\n",
        "assert sklearn.__version__ >= \"0.20\"\n",
        "\n",
        "# TensorFlow ≥2.0 is required\n",
        "import tensorflow as tf\n",
        "from tensorflow import keras\n",
        "assert tf.__version__ >= \"2.0\"\n",
        "\n",
        "# To plot pretty figures\n",
        "%matplotlib inline\n",
        "import matplotlib as mpl\n",
        "import matplotlib.pyplot as plt\n",
        "mpl.rc('axes', labelsize=14)\n",
        "mpl.rc('xtick', labelsize=12)\n",
        "mpl.rc('ytick', labelsize=12)\n",
        "\n",
        "import pandas as pd\n",
        "import gzip"
      ],
      "execution_count": null,
      "outputs": []
    },
    {
      "cell_type": "markdown",
      "metadata": {
        "id": "Ba1fXPvoSz_E"
      },
      "source": [
        "### Loading the data"
      ]
    },
    {
      "cell_type": "code",
      "metadata": {
        "colab": {
          "base_uri": "https://localhost:8080/"
        },
        "id": "vUvoGZ3lJ7cT",
        "outputId": "b3a46f0c-a2cc-4d9d-beaf-8b8ba5285e29"
      },
      "source": [
        "tic = time.time()\n",
        "\n",
        "#--------------------------------#\n",
        "#-- Choose variables           --#\n",
        "#--------------------------------#\n",
        "# Vtu files\n",
        "path      = '/content/gdrive/MyDrive/ACSE-9/ClarenceCentre/run_Clip_ToSend/'\n",
        "# path      = 'ClarenceCentre/run_Clip_ToSend/'\n",
        "extension = '.vtu'\n",
        "name_simu = 'ClarenceCentre'\n",
        "fieldname = 'CO2_ppm'\n",
        "vtu_start = 0\n",
        "vtu_end   = 20\n",
        "#vtu_end   = 454\n",
        "vtu_step  = 1\n",
        "\n",
        "all_data = []\n",
        "\n",
        "#---------------------------------------------------------------------\n",
        "# EXTRACT DATA\n",
        "#---------------------------------------------------------------------\n",
        "for vtuID in range(vtu_start,vtu_end,vtu_step):\n",
        "    filename=path+name_simu+'_'+str(vtuID)+extension\n",
        "    print ('\\n  '+str(filename))\n",
        "    # if vtuID%10 == 0:\n",
        "    #   print ('\\n  '+str(filename))\n",
        "\n",
        "    vtu_data = vtktools.vtu(filename)\n",
        "    data     = vtu_data.GetField(fieldname)\n",
        "    #print (data)\n",
        "    all_data.append(data)\n",
        "    \n",
        "\n",
        "toc = time.time() #added \n",
        "print ('\\n\\nTime : ', toc - tic, 'sec')\n",
        "#pprint.pprint(data)"
      ],
      "execution_count": null,
      "outputs": [
        {
          "output_type": "stream",
          "text": [
            "\n",
            "  /content/gdrive/MyDrive/ACSE-9/ClarenceCentre/run_Clip_ToSend/ClarenceCentre_0.vtu\n",
            "\n",
            "  /content/gdrive/MyDrive/ACSE-9/ClarenceCentre/run_Clip_ToSend/ClarenceCentre_1.vtu\n",
            "\n",
            "  /content/gdrive/MyDrive/ACSE-9/ClarenceCentre/run_Clip_ToSend/ClarenceCentre_2.vtu\n",
            "\n",
            "  /content/gdrive/MyDrive/ACSE-9/ClarenceCentre/run_Clip_ToSend/ClarenceCentre_3.vtu\n",
            "\n",
            "  /content/gdrive/MyDrive/ACSE-9/ClarenceCentre/run_Clip_ToSend/ClarenceCentre_4.vtu\n",
            "\n",
            "  /content/gdrive/MyDrive/ACSE-9/ClarenceCentre/run_Clip_ToSend/ClarenceCentre_5.vtu\n",
            "\n",
            "  /content/gdrive/MyDrive/ACSE-9/ClarenceCentre/run_Clip_ToSend/ClarenceCentre_6.vtu\n",
            "\n",
            "  /content/gdrive/MyDrive/ACSE-9/ClarenceCentre/run_Clip_ToSend/ClarenceCentre_7.vtu\n",
            "\n",
            "  /content/gdrive/MyDrive/ACSE-9/ClarenceCentre/run_Clip_ToSend/ClarenceCentre_8.vtu\n",
            "\n",
            "  /content/gdrive/MyDrive/ACSE-9/ClarenceCentre/run_Clip_ToSend/ClarenceCentre_9.vtu\n",
            "\n",
            "  /content/gdrive/MyDrive/ACSE-9/ClarenceCentre/run_Clip_ToSend/ClarenceCentre_10.vtu\n",
            "\n",
            "  /content/gdrive/MyDrive/ACSE-9/ClarenceCentre/run_Clip_ToSend/ClarenceCentre_11.vtu\n",
            "\n",
            "  /content/gdrive/MyDrive/ACSE-9/ClarenceCentre/run_Clip_ToSend/ClarenceCentre_12.vtu\n",
            "\n",
            "  /content/gdrive/MyDrive/ACSE-9/ClarenceCentre/run_Clip_ToSend/ClarenceCentre_13.vtu\n",
            "\n",
            "  /content/gdrive/MyDrive/ACSE-9/ClarenceCentre/run_Clip_ToSend/ClarenceCentre_14.vtu\n",
            "\n",
            "  /content/gdrive/MyDrive/ACSE-9/ClarenceCentre/run_Clip_ToSend/ClarenceCentre_15.vtu\n",
            "\n",
            "  /content/gdrive/MyDrive/ACSE-9/ClarenceCentre/run_Clip_ToSend/ClarenceCentre_16.vtu\n",
            "\n",
            "  /content/gdrive/MyDrive/ACSE-9/ClarenceCentre/run_Clip_ToSend/ClarenceCentre_17.vtu\n",
            "\n",
            "  /content/gdrive/MyDrive/ACSE-9/ClarenceCentre/run_Clip_ToSend/ClarenceCentre_18.vtu\n",
            "\n",
            "  /content/gdrive/MyDrive/ACSE-9/ClarenceCentre/run_Clip_ToSend/ClarenceCentre_19.vtu\n",
            "\n",
            "\n",
            "Time :  31.075215339660645 sec\n"
          ],
          "name": "stdout"
        }
      ]
    },
    {
      "cell_type": "markdown",
      "metadata": {
        "id": "PuOlL_zASz_G"
      },
      "source": [
        "### Snapshot matrix\n",
        "The snapshot matrix:\n",
        "$$dim (\\mathbf{{X}}) = (\\text{# nodes} , \\text{# snapshots})$$"
      ]
    },
    {
      "cell_type": "code",
      "metadata": {
        "colab": {
          "base_uri": "https://localhost:8080/"
        },
        "id": "kDNAFZCvJ7cU",
        "outputId": "10dbf4b5-3b00-4a11-c823-3da5ef0dc882"
      },
      "source": [
        "# initial shape\n",
        "print(np.shape(all_data))"
      ],
      "execution_count": null,
      "outputs": [
        {
          "output_type": "stream",
          "text": [
            "(20, 148906, 1)\n"
          ],
          "name": "stdout"
        }
      ]
    },
    {
      "cell_type": "code",
      "metadata": {
        "colab": {
          "base_uri": "https://localhost:8080/"
        },
        "id": "Htbc86bnJ7cV",
        "outputId": "d39173f5-8481-4943-a883-9f0cc9b46867"
      },
      "source": [
        "#nNodes = 148906\n",
        "nNodes = np.shape(all_data)[1]\n",
        "#all_values = np.array(all_data).reshape(-1, nNodes)\n",
        "all_values = np.array(all_data).reshape(nNodes, -1)\n",
        "print(\"snapshot matrix shape: \", np.shape(all_values))"
      ],
      "execution_count": null,
      "outputs": [
        {
          "output_type": "stream",
          "text": [
            "snapshot matrix shape:  (148906, 20)\n"
          ],
          "name": "stdout"
        }
      ]
    },
    {
      "cell_type": "markdown",
      "metadata": {
        "id": "3LuXpzL6Sz_I"
      },
      "source": [
        "### Standardising"
      ]
    },
    {
      "cell_type": "code",
      "metadata": {
        "colab": {
          "base_uri": "https://localhost:8080/"
        },
        "id": "swwD9QaNJ7cV",
        "outputId": "87b2f841-83bf-40c0-b675-383ae0981616"
      },
      "source": [
        "## Standardising data\n",
        "from sklearn.preprocessing import StandardScaler\n",
        "scaler = StandardScaler()\n",
        "\n",
        "scaler.fit(all_values)\n",
        "\n",
        "# Apply transform to both the training set and the test set.\n",
        "norm_vals = scaler.transform(all_values)\n",
        "print(\"shape of standardised array:\", norm_vals.shape)\n",
        "print(\"standardised data: \\n\", norm_vals)"
      ],
      "execution_count": null,
      "outputs": [
        {
          "output_type": "stream",
          "text": [
            "shape of standardised array: (148906, 20)\n",
            "standardised data: \n",
            " [[0.55019812 0.54948641 0.550828   ... 0.55009572 0.55016612 0.55066117]\n",
            " [0.55019812 0.54948641 0.550828   ... 0.55009572 0.55016612 0.55066117]\n",
            " [0.55019812 0.54948641 0.550828   ... 0.55009572 0.55016612 0.55066117]\n",
            " ...\n",
            " [0.55017206 0.54948528 0.55080726 ... 0.53546606 0.54833189 0.54889688]\n",
            " [0.54735348 0.54853906 0.54907191 ... 0.54485308 0.54472772 0.54963754]\n",
            " [0.50436441 0.54919953 0.54307158 ... 0.54935941 0.54988759 0.54964259]]\n"
          ],
          "name": "stdout"
        }
      ]
    },
    {
      "cell_type": "code",
      "metadata": {
        "id": "PiSnAGbuJ7cW"
      },
      "source": [
        "from sklearn.decomposition import PCA\n",
        "# used to explain as close to the full variance distribution\n",
        "# explicitly used for illustration in plot 1\n",
        "p_tot = 0.999999999999995\n",
        "# determining the number of components required to describe\n",
        "# 99% of the total variance\n",
        "p = 0.95\n",
        "#p = 0.85\n",
        "# instance of the PCA model\n",
        "pca = PCA(p_tot)\n",
        "#pca = PCA(norm_vals.shape[1])\n",
        "train_pca = pca.fit_transform(norm_vals)"
      ],
      "execution_count": null,
      "outputs": []
    },
    {
      "cell_type": "code",
      "metadata": {
        "colab": {
          "base_uri": "https://localhost:8080/"
        },
        "id": "GmSvCFlXJ7cW",
        "outputId": "e8d98d61-523d-441d-d445-67e3f67540eb"
      },
      "source": [
        "X_recovered = pca.inverse_transform(train_pca)\n",
        "np.allclose(X_recovered, norm_vals)"
      ],
      "execution_count": null,
      "outputs": [
        {
          "output_type": "execute_result",
          "data": {
            "text/plain": [
              "True"
            ]
          },
          "metadata": {
            "tags": []
          },
          "execution_count": 115
        }
      ]
    },
    {
      "cell_type": "code",
      "metadata": {
        "colab": {
          "base_uri": "https://localhost:8080/"
        },
        "id": "9cEUmC43J7cX",
        "outputId": "ac8702d8-f7c8-42be-a89b-cdfe75c221a0"
      },
      "source": [
        "# Number of components the pca results in\n",
        "pca.n_components_"
      ],
      "execution_count": null,
      "outputs": [
        {
          "output_type": "execute_result",
          "data": {
            "text/plain": [
              "20"
            ]
          },
          "metadata": {
            "tags": []
          },
          "execution_count": 116
        }
      ]
    },
    {
      "cell_type": "code",
      "metadata": {
        "colab": {
          "base_uri": "https://localhost:8080/"
        },
        "id": "Xd2UVe57J7cX",
        "outputId": "eb3ef852-4a87-490e-9459-6ba2d2420c53"
      },
      "source": [
        "pca.explained_variance_ratio_\n",
        "# First two components account for above 80% of the overall variance (for n=10 time levels) "
      ],
      "execution_count": null,
      "outputs": [
        {
          "output_type": "execute_result",
          "data": {
            "text/plain": [
              "array([0.49085693, 0.0659953 , 0.061759  , 0.0544445 , 0.0480395 ,\n",
              "       0.04053282, 0.03414455, 0.02779299, 0.02307005, 0.01909094,\n",
              "       0.0170602 , 0.01504573, 0.01404731, 0.01369042, 0.01314539,\n",
              "       0.01275796, 0.01264391, 0.0122692 , 0.01197138, 0.01164192])"
            ]
          },
          "metadata": {
            "tags": []
          },
          "execution_count": 117
        }
      ]
    },
    {
      "cell_type": "markdown",
      "metadata": {
        "id": "QgdPmx2_J7cY"
      },
      "source": [
        "pca/pod does not work well to reduce data if the relationship between variables are weak. e.g. if the correlation coefficients (correlation matrix) are smaller than 0.3"
      ]
    },
    {
      "cell_type": "code",
      "metadata": {
        "colab": {
          "base_uri": "https://localhost:8080/"
        },
        "id": "MJVX43mpJ7cZ",
        "outputId": "dc090a2b-21d5-4450-959d-14beb537b2f4"
      },
      "source": [
        "cumsum_eig = np.cumsum(pca.explained_variance_ratio_)\n",
        "print(cumsum_eig)\n",
        "d_tot = pca.n_components_\n",
        "d = np.argmax(cumsum_eig >= p) + 1"
      ],
      "execution_count": null,
      "outputs": [
        {
          "output_type": "stream",
          "text": [
            "[0.49085693 0.55685223 0.61861123 0.67305573 0.72109524 0.76162805\n",
            " 0.7957726  0.82356559 0.84663564 0.86572659 0.88278678 0.89783251\n",
            " 0.91187983 0.92557025 0.93871564 0.95147359 0.9641175  0.9763867\n",
            " 0.98835808 1.        ]\n"
          ],
          "name": "stdout"
        }
      ]
    },
    {
      "cell_type": "code",
      "metadata": {
        "colab": {
          "base_uri": "https://localhost:8080/"
        },
        "id": "2ReOkdzxJ7cZ",
        "outputId": "cb5dee71-7750-443d-8d2a-e203a8e41023"
      },
      "source": [
        "print(\"Number of components required to explain%3g percent of the total variance:\" %(p*100),d)"
      ],
      "execution_count": null,
      "outputs": [
        {
          "output_type": "stream",
          "text": [
            "Number of components required to explain 95 percent of the total variance: 16\n"
          ],
          "name": "stdout"
        }
      ]
    },
    {
      "cell_type": "code",
      "metadata": {
        "id": "-s_fRYWQJ7cZ"
      },
      "source": [
        "# p_1 = 0.99\n",
        "# cumsum_eig_1 = np.cumsum(pca.explained_variance_ratio_)\n",
        "# print(cumsum_eig_1)\n",
        "# d = np.argmax(cumsum_eig_1 >= p_1) +1"
      ],
      "execution_count": null,
      "outputs": []
    },
    {
      "cell_type": "code",
      "metadata": {
        "colab": {
          "base_uri": "https://localhost:8080/",
          "height": 440
        },
        "id": "QECKNsZ4J7ca",
        "outputId": "478ec1c1-efe6-4b72-abcf-11048464670e"
      },
      "source": [
        "# plot \n",
        "x_dims = np.linspace(0, d_tot, d_tot)\n",
        "plt.figure(figsize=(12,6))\n",
        "plt.plot(x_dims, cumsum_eig, linewidth=2)\n",
        "plt.xlabel(\"Dimensions\")\n",
        "plt.ylabel(\"Explained Variance\")\n",
        "plt.ylim([cumsum_eig[0],1.1])\n",
        "plt.plot([d, d], [0, p], \"k:\")\n",
        "plt.plot([0, d], [p, p], \"k:\")\n",
        "plt.plot(d, p, \"ko\")\n",
        "plt.annotate(\"16 principal components\", xy=(d, p), xytext=(d, cumsum_eig[0]+0.05),\n",
        "             arrowprops=dict(arrowstyle=\"->\"), fontsize=16)\n",
        "plt.grid(True)\n",
        "plt.tight_layout()\n",
        "plt.show()"
      ],
      "execution_count": null,
      "outputs": [
        {
          "output_type": "display_data",
          "data": {
            "image/png": "[encoded data removed]",
            "text/plain": [
              "<Figure size 864x432 with 1 Axes>"
            ]
          },
          "metadata": {
            "tags": [],
            "needs_background": "light"
          }
        }
      ]
    },
    {
      "cell_type": "code",
      "metadata": {
        "colab": {
          "base_uri": "https://localhost:8080/",
          "height": 433
        },
        "id": "VqS1Ixp1J7cb",
        "outputId": "a93f65e1-e172-42e6-b6cb-e9c8606d6484"
      },
      "source": [
        "# Plot   \n",
        "mpl.rcParams.update({'font.size': 14})\n",
        "mpl.rc('xtick', labelsize=14) \n",
        "mpl.rc('ytick', labelsize=14) \n",
        "mpl.rc('axes', labelsize=14)\n",
        "\n",
        "fig, ax = plt.subplots(1,1,figsize=(12,6))\n",
        "ax.plot(range(1,len(pca.singular_values_)+1), pca.singular_values_, linewidth=2)\n",
        "ax.set_xlabel(\"Dimensions\")\n",
        "ax.set_ylabel(\"Singular values\")\n",
        "#ax.set_xscale('log')\n",
        "ax.set_yscale('log') \n",
        "#ax.ticklabel_format(axis=\"y\", style=\"sci\", scilimits=(0,0))\n",
        "#plt.yscale('log') \n",
        "ax.plot(d, pca.singular_values_[d-1], \"ko\")\n",
        "# ax.annotate(\"16 principal components\", xy=(d, pca.singular_values_[d-1]), xytext=(d+2, 1e5),\n",
        "#              arrowprops=dict(arrowstyle=\"->\"), fontsize=22)\n",
        "ax.grid()\n",
        "#ax.grid(True, which=\"both\", ls=\"-\", color='0.65')\n",
        "plt.tight_layout()\n",
        "#plt.savefig('PCA_sv1.eps')\n",
        "\n",
        "ax.grid()\n",
        "#ax.grid(True, which=\"both\", ls=\"-\", color='0.65')\n",
        "plt.tight_layout()"
      ],
      "execution_count": null,
      "outputs": [
        {
          "output_type": "display_data",
          "data": {
            "image/png": "[encoded data removed]",
            "text/plain": [
              "<Figure size 864x432 with 1 Axes>"
            ]
          },
          "metadata": {
            "tags": [],
            "needs_background": "light"
          }
        }
      ]
    },
    {
      "cell_type": "markdown",
      "metadata": {
        "id": "dq1KhyhPSz_N"
      },
      "source": [
        "### Applying PCA"
      ]
    },
    {
      "cell_type": "markdown",
      "metadata": {
        "id": "4s44AVnVJ7cd"
      },
      "source": [
        "Given the above number of components required to express 95% of the total variance, the following applies PCA with this dimensionality reduction"
      ]
    },
    {
      "cell_type": "code",
      "metadata": {
        "colab": {
          "base_uri": "https://localhost:8080/"
        },
        "id": "N5wISv5WJ7cd",
        "outputId": "fff6c31a-6e79-426b-d5bc-be52bd4ffc8b"
      },
      "source": [
        "pca_compress = PCA(n_components=d) # d=16\n",
        "X_train_pca = pca_compress.fit_transform(norm_vals)\n",
        "X_recovered = pca_compress.inverse_transform(X_train_pca)\n",
        "\n",
        "# below should now show false as were are losing (limited) data through \n",
        "# dimensionality reduction\n",
        "print(np.allclose(X_recovered, norm_vals))\n",
        "print(X_train_pca.shape)"
      ],
      "execution_count": null,
      "outputs": [
        {
          "output_type": "stream",
          "text": [
            "False\n",
            "(148906, 16)\n"
          ],
          "name": "stdout"
        }
      ]
    },
    {
      "cell_type": "markdown",
      "metadata": {
        "id": "_6xkwsalJ7cd"
      },
      "source": [
        "#### Need to NORMALISE PCA basis functions to become orthonormal not just orthogonal\n",
        "$$\\mathbf{R}^T\\mathbf{R} = \\mathbf{I}$$ "
      ]
    },
    {
      "cell_type": "code",
      "metadata": {
        "colab": {
          "base_uri": "https://localhost:8080/"
        },
        "id": "5WGGM-RNJ7ce",
        "outputId": "a7695026-4f03-47b5-8696-c05798dde23b"
      },
      "source": [
        "# X_train_pca = X_train_pca/np.linalg.norm(X_train_pca)\n",
        "# X_train_pca[:,1] = X_train_pca[:,1]/np.linalg.norm(X_train_pca[:,1])\n",
        "norm_pca = X_train_pca\n",
        "\n",
        "# 16 basis functions - normalising each diagonal value\n",
        "for i in range(d):\n",
        "    norm_pca[:,i] = X_train_pca[:,i]/np.linalg.norm(X_train_pca[:,i])\n",
        "\n",
        "# check to ensure that (R^T)R = I\n",
        "np.around(norm_pca.T @ norm_pca, decimals=10)"
      ],
      "execution_count": null,
      "outputs": [
        {
          "output_type": "execute_result",
          "data": {
            "text/plain": [
              "array([[ 1.,  0., -0., -0.,  0.,  0., -0., -0., -0.,  0.,  0., -0., -0.,\n",
              "        -0.,  0., -0.],\n",
              "       [ 0.,  1., -0., -0.,  0., -0., -0.,  0., -0., -0.,  0.,  0., -0.,\n",
              "         0.,  0.,  0.],\n",
              "       [-0., -0.,  1.,  0., -0.,  0.,  0.,  0., -0.,  0.,  0.,  0., -0.,\n",
              "         0.,  0., -0.],\n",
              "       [-0., -0.,  0.,  1., -0., -0.,  0., -0., -0., -0., -0., -0.,  0.,\n",
              "        -0.,  0., -0.],\n",
              "       [ 0.,  0., -0., -0.,  1.,  0.,  0., -0., -0., -0., -0.,  0., -0.,\n",
              "         0., -0.,  0.],\n",
              "       [ 0., -0.,  0., -0.,  0.,  1., -0.,  0., -0., -0.,  0.,  0.,  0.,\n",
              "        -0.,  0., -0.],\n",
              "       [-0., -0.,  0.,  0.,  0., -0.,  1.,  0., -0., -0., -0.,  0.,  0.,\n",
              "        -0.,  0., -0.],\n",
              "       [-0.,  0.,  0., -0., -0.,  0.,  0.,  1.,  0.,  0.,  0.,  0.,  0.,\n",
              "        -0., -0., -0.],\n",
              "       [-0., -0., -0., -0., -0., -0., -0.,  0.,  1.,  0., -0., -0., -0.,\n",
              "         0., -0., -0.],\n",
              "       [ 0., -0.,  0., -0., -0., -0., -0.,  0.,  0.,  1.,  0.,  0., -0.,\n",
              "         0.,  0., -0.],\n",
              "       [ 0.,  0.,  0., -0., -0.,  0., -0.,  0., -0.,  0.,  1.,  0., -0.,\n",
              "        -0.,  0.,  0.],\n",
              "       [-0.,  0.,  0., -0.,  0.,  0.,  0.,  0., -0.,  0.,  0.,  1., -0.,\n",
              "        -0., -0.,  0.],\n",
              "       [-0., -0., -0.,  0., -0.,  0.,  0.,  0., -0., -0., -0., -0.,  1.,\n",
              "        -0.,  0.,  0.],\n",
              "       [-0.,  0.,  0., -0.,  0., -0., -0., -0.,  0.,  0., -0., -0., -0.,\n",
              "         1., -0.,  0.],\n",
              "       [ 0.,  0.,  0.,  0., -0.,  0.,  0., -0., -0.,  0.,  0., -0.,  0.,\n",
              "        -0.,  1.,  0.],\n",
              "       [-0.,  0., -0., -0.,  0., -0., -0., -0., -0., -0.,  0.,  0.,  0.,\n",
              "         0.,  0.,  1.]])"
            ]
          },
          "metadata": {
            "tags": []
          },
          "execution_count": 124
        }
      ]
    },
    {
      "cell_type": "code",
      "metadata": {
        "id": "Q4jx7WoLJ7ce"
      },
      "source": [
        "def calculateerror(X_train_1D, X_train_1D_recovered):\n",
        "    abs_error = abs(X_train_1D - X_train_1D_recovered)\n",
        "    perc_error = abs_error*100/abs(X_train_1D)\n",
        "    \n",
        "    print('max_abs_error: ',np.max(abs(X_train_1D - X_train_1D_recovered)))\n",
        "    print('mean_abs_error: ',np.mean(abs(X_train_1D - X_train_1D_recovered)))"
      ],
      "execution_count": null,
      "outputs": []
    },
    {
      "cell_type": "code",
      "metadata": {
        "colab": {
          "base_uri": "https://localhost:8080/"
        },
        "id": "AVOHSLPzJ7ce",
        "outputId": "1316e6c5-3ef4-4763-89b2-8466a81f5bf4"
      },
      "source": [
        "calculateerror(norm_vals, X_recovered)"
      ],
      "execution_count": null,
      "outputs": [
        {
          "output_type": "stream",
          "text": [
            "max_abs_error:  1.9353920851963522\n",
            "mean_abs_error:  0.126160262812734\n"
          ],
          "name": "stdout"
        }
      ]
    },
    {
      "cell_type": "markdown",
      "metadata": {
        "id": "4Wh-7StCJ7cf"
      },
      "source": [
        "#### Obtaining POD coefficients\n",
        "$$\\alpha = \\mathbf{R}^{T}\\mathbf{X}$$ "
      ]
    },
    {
      "cell_type": "code",
      "metadata": {
        "colab": {
          "base_uri": "https://localhost:8080/"
        },
        "id": "xYRLW5_wJ7cf",
        "outputId": "dce61a62-6c70-4032-ecd2-f738b9465f6e"
      },
      "source": [
        "print(\"shape of POD basis functions: R: \", np.shape(norm_pca))\n",
        "print(\"shape of snapshot matrix, X: \", np.shape(norm_vals))"
      ],
      "execution_count": null,
      "outputs": [
        {
          "output_type": "stream",
          "text": [
            "shape of POD basis functions: R:  (148906, 16)\n",
            "shape of snapshot matrix, X:  (148906, 20)\n"
          ],
          "name": "stdout"
        }
      ]
    },
    {
      "cell_type": "code",
      "metadata": {
        "id": "KpYnZp3vJ7cg"
      },
      "source": [
        "pod_coeffs = norm_pca.T @ norm_vals\n",
        "#pod_coeffs"
      ],
      "execution_count": null,
      "outputs": []
    },
    {
      "cell_type": "code",
      "metadata": {
        "colab": {
          "base_uri": "https://localhost:8080/"
        },
        "id": "zWuJM53IJ7cg",
        "outputId": "3cf827a6-5e5d-4ed0-f906-519c7b3f881c"
      },
      "source": [
        "pod_coeffs.shape\n",
        "# (nComponents x nSnapshots)"
      ],
      "execution_count": null,
      "outputs": [
        {
          "output_type": "execute_result",
          "data": {
            "text/plain": [
              "(16, 20)"
            ]
          },
          "metadata": {
            "tags": []
          },
          "execution_count": 129
        }
      ]
    },
    {
      "cell_type": "code",
      "metadata": {
        "colab": {
          "base_uri": "https://localhost:8080/"
        },
        "id": "0pa09KCNN-62",
        "outputId": "d8a8eb8b-85b6-41de-a8b2-38a58f827104"
      },
      "source": [
        "pca_compress"
      ],
      "execution_count": null,
      "outputs": [
        {
          "output_type": "execute_result",
          "data": {
            "text/plain": [
              "PCA(copy=True, iterated_power='auto', n_components=243, random_state=None,\n",
              "    svd_solver='auto', tol=0.0, whiten=False)"
            ]
          },
          "metadata": {
            "tags": []
          },
          "execution_count": 101
        }
      ]
    },
    {
      "cell_type": "code",
      "metadata": {
        "colab": {
          "base_uri": "https://localhost:8080/"
        },
        "id": "Z_cqgl92-cUK",
        "outputId": "eeaec9ba-d47e-449b-c582-10d7b6713c3c"
      },
      "source": [
        "print(pca_compress.singular_values_)\n",
        "#print(pod_coeffs.T)\n",
        "print(pod_coeffs.T)\n",
        "print(np.allclose(X_train_pca[0].T, pca_compress.singular_values_))"
      ],
      "execution_count": null,
      "outputs": [
        {
          "output_type": "stream",
          "text": [
            "[1209.06196764  443.33049827  428.86560942  402.66892362  378.24251126\n",
            "  347.4357386   318.88329381  287.69926107  262.11711606  238.4431234\n",
            "  225.40477241  211.67896687  204.5350572   201.92007923  197.85990861\n",
            "  194.92237935]\n",
            "[[-260.07774261  -56.61345264   61.90472559   94.75071391  -97.3734412\n",
            "  -101.00154626  101.20605279   94.04942431   86.73903238   81.96245365\n",
            "   -68.67570452   50.48135238   41.33708905  -29.64507064   29.78664566\n",
            "   -20.15383841]\n",
            " [-266.93879937  -88.28120807   86.79795442  125.1906379   -99.61566385\n",
            "   -91.22908205   56.44647095   31.37884283   -5.41992044  -27.73987638\n",
            "    48.89289322  -55.26267764  -59.4344286    51.93421884  -57.86596029\n",
            "    43.95832581]\n",
            " [-271.46958191 -115.24035359   95.70355429  119.23497098  -55.67217447\n",
            "   -20.53071485  -34.78582816  -57.99109507  -79.13853256  -72.46766908\n",
            "    57.27702541  -21.37078067    1.92678573  -21.59315175   45.44117099\n",
            "   -42.77327784]\n",
            " [-271.49731754 -132.30478616   84.69584541   74.40726585   21.28490573\n",
            "    63.10063796 -101.73643506  -79.61949418  -44.10584544    9.44515242\n",
            "   -46.44112533   66.02410811   60.05322254  -43.20729291    4.48118096\n",
            "     7.77700987]\n",
            " [-272.36846917 -138.00706326   52.29900074    7.70625377   94.34236423\n",
            "   102.87179167  -78.70879924   -7.94814876   48.44273992   68.24369073\n",
            "   -51.49613554   -7.00130738  -43.3388134    68.88404968  -49.30752363\n",
            "    36.07256469]\n",
            " [-272.30617793 -129.08514641    8.05199155  -64.56666462  128.01033515\n",
            "    72.26434009   11.78889585   78.32992669   67.95397706   10.99544199\n",
            "    49.23054359  -59.08764862  -35.69156515  -19.32227099   49.96782728\n",
            "   -60.9151878 ]\n",
            " [-272.96606317 -113.00018635  -42.46214864 -110.26851939  105.17909354\n",
            "   -11.32399254   82.85946532   68.99930059  -14.34817422  -62.15999419\n",
            "    52.53760518   19.91534797   61.67454869  -51.12296461  -12.68910525\n",
            "    46.25654122]\n",
            " [-272.17263467  -85.57440628  -92.7428343  -123.4204039    34.14368351\n",
            "   -87.23396595   74.86269911  -22.45907961  -83.8532166   -30.28937792\n",
            "   -47.18045921   60.83965854   -1.69177109   67.01984026  -38.58120977\n",
            "    -0.96987471]\n",
            " [-272.85242605  -50.89204856 -134.10952352  -98.43751977  -43.88279907\n",
            "  -100.05424599  -11.34932001  -85.07324487  -34.38851876   53.54214255\n",
            "   -46.15004282  -40.79469809  -61.84936695  -11.73871921   61.23097553\n",
            "   -41.09463481]\n",
            " [-271.74049758  -12.6562373  -157.2827451   -38.79987449  -96.75863921\n",
            "   -45.49745028  -92.1883311   -47.16844534   60.3104033    46.35072366\n",
            "    48.05155135  -47.90676098   36.82079718  -59.12554905  -34.59592179\n",
            "    59.49781509]\n",
            " [-272.27264477   28.4306078  -159.30468804   29.04144687  -94.61842736\n",
            "    40.6169181   -90.68975028   45.76869253   59.85343332  -42.82516632\n",
            "    50.00163525   52.42848978   37.06205436   67.28664183  -22.29135803\n",
            "   -51.4433539 ]\n",
            " [-271.43757105   65.43585327 -136.33235046   88.3093876   -41.33517434\n",
            "   102.4402857   -12.39764974   87.98145326  -31.63757014  -57.54899081\n",
            "   -45.78057611   33.97362889  -60.17996107   -2.06597198   60.97295253\n",
            "    19.46720268]\n",
            " [-272.22492453   96.10986709  -96.26105779  114.78067739   37.65047626\n",
            "    88.50298688   70.41678051   22.6170212   -80.29061613   24.76924683\n",
            "   -46.33853775  -59.2955614    -2.21337944  -59.97019784  -51.04725053\n",
            "    22.5128021 ]\n",
            " [-271.61316425  115.53559534  -41.45997683  106.47528668  106.92427342\n",
            "    12.04916797   84.75073084  -70.81957742  -17.46653353   68.20269403\n",
            "    49.99413092  -19.1171137    64.90488421   52.76153383   -6.4298941\n",
            "   -58.45973773]\n",
            " [-272.28190967  130.21306347   15.72651874   61.72498426  128.11504354\n",
            "   -72.74166962   10.70073013  -77.13031485   64.79441361   -6.06393236\n",
            "    46.82460299   63.63624502  -45.08692141    8.04292104   58.1776787\n",
            "    66.88639639]\n",
            " [-272.61728529  128.92455372   67.37791451   -2.85836324   92.64009944\n",
            "  -108.77885339  -76.01215542    7.74123219   50.2905891   -72.60109854\n",
            "   -47.12303475    3.94641416  -35.6532786   -57.77685275  -62.98640712\n",
            "   -37.57595653]\n",
            " [-272.2563088   123.70698454  103.10624674  -67.24417927   20.39147232\n",
            "   -65.36073037  -96.16917761   79.30769725  -41.64883274  -12.21663149\n",
            "   -44.93777531  -67.45079146   61.73068506   44.23222494   15.70970668\n",
            "   -15.86551269]\n",
            " [-270.68712723  103.84249382  115.81992782 -109.23235194  -57.77239815\n",
            "    23.10130663  -37.92591686   62.00274414  -80.80726965   75.54589622\n",
            "    53.84496939   20.95718618   -3.01704442   12.65147031   42.02434261\n",
            "    58.6916208 ]\n",
            " [-267.04035929   80.05536762  105.31774413 -116.25935563 -100.64091775\n",
            "    92.90855367   52.25031077  -31.17602492   -5.45947635   28.99538886\n",
            "    42.2444383    57.11198848  -54.65572015  -43.37624813  -63.46375545\n",
            "   -62.38956135]\n",
            " [-259.7277413    49.58827743   73.6604284   -89.34023827  -94.43138203\n",
            "   107.13138796   97.14314363  -99.17088833   86.98153677  -83.88435761\n",
            "   -58.33898748  -51.88374475   38.98246106   26.315729     32.40386791\n",
            "    30.9927621 ]]\n",
            "False\n"
          ],
          "name": "stdout"
        }
      ]
    },
    {
      "cell_type": "code",
      "metadata": {
        "id": "CDQpoPATJ7cg"
      },
      "source": [
        "import joblib\n",
        "joblib.dump(pod_coeffs, \"/content/gdrive/MyDrive/ACSE-9/pod_coefficients_300.pkl\") \n",
        "np.savetxt('/content/gdrive/MyDrive/ACSE-9/X_train_1D_300.csv', norm_vals, delimiter=',') \n",
        "np.savetxt('/content/gdrive/MyDrive/ACSE-9/X_train_pca_300.csv', norm_pca, delimiter=',') "
      ],
      "execution_count": null,
      "outputs": []
    },
    {
      "cell_type": "code",
      "metadata": {
        "id": "ZNWGDCgDM5JB",
        "colab": {
          "base_uri": "https://localhost:8080/"
        },
        "outputId": "32e3a63e-a3e7-4d58-999d-c2e4fc246f13"
      },
      "source": [
        "joblib.dump(pca_compress, '/content/gdrive/MyDrive/ACSE-9/pca_compress_300.pkl')"
      ],
      "execution_count": null,
      "outputs": [
        {
          "output_type": "execute_result",
          "data": {
            "text/plain": [
              "['/content/gdrive/MyDrive/ACSE-9/pca_compress_300.pkl']"
            ]
          },
          "metadata": {
            "tags": []
          },
          "execution_count": 104
        }
      ]
    },
    {
      "cell_type": "code",
      "metadata": {
        "id": "9llpuxNzd4cF"
      },
      "source": [
        ""
      ],
      "execution_count": null,
      "outputs": []
    }
  ]
}